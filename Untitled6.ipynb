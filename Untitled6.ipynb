{
 "cells": [
  {
   "cell_type": "markdown",
   "metadata": {},
   "source": [
    "## EL PROCESO DE APRENDIZAJE AUTOMATICO\n",
    "\n",
    "Si has estado siguiendo nuestra serie de artículos en el blog sobre el proceso de Data Science, has leído ya a algunas de las voces más reconocibles de la industria sobre el proceso del Data Science y sobre cómo afrontar con éxito los pasos de este camino. Los pasos iniciales a veces pasan inadvertidos, pero son cruciales para el resultado global y sirven de base para analizar y modelar las soluciones; sin una correcta definición del problema, buenos datos que sean fiables y significativos y la capacidad de escuchar con detenimiento lo que los datos tengan que decirnos, los algoritmos y modelos de aprendizaje automático no sirven casi para nada.\n",
    "\n",
    "En palabras de Moustapha Cisse, Director del Centro de IA de Google en Accra, Ghana: «Somos lo que comemos, y a veces alimentamos nuestros modelos con comida basura».\n",
    "\n",
    "Suponiendo que estemos sanos y hayamos superado los desafíos planteados por los pasos anteriores, nuestro camino alcanza un nuevo punto crítico. El aprendizaje automático es una de las herramientas de computación más poderosas y está ayudando a todo tipo de empresas a analizar su rendimiento, reducir costes, maximizar ingresos y generar nuevos modelos de negocio.\n",
    "\n",
    "[]"
   ]
  }
 ],
 "metadata": {
  "kernelspec": {
   "display_name": "Python 3",
   "language": "python",
   "name": "python3"
  },
  "language_info": {
   "codemirror_mode": {
    "name": "ipython",
    "version": 3
   },
   "file_extension": ".py",
   "mimetype": "text/x-python",
   "name": "python",
   "nbconvert_exporter": "python",
   "pygments_lexer": "ipython3",
   "version": "3.7.3"
  }
 },
 "nbformat": 4,
 "nbformat_minor": 2
}
