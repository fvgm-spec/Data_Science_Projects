{
 "cells": [
  {
   "cell_type": "markdown",
   "metadata": {},
   "source": [
    "## Handling country names using pycountry python package\n",
    "\n",
    "pycountry Python package provides the ISO databases to match the standards for: Languages, Countries, Deleted countries, Subdivisions of countries, Currencies and Scripts. The ISO codes are as follows:\n",
    "\n",
    "+ 3166 - Countries\n",
    "+ 639 - Languages\n",
    "+ 3166-3 - Deleted countries\n",
    "+ 3166-2 - Subdivisions of countries\n",
    "+ 4217 - Currencies\n",
    "+ 15924 - Scripts\n",
    "\n",
    "The package includes a copy from Debian's pkg-isocodes and makes the data accessible through a Python API.\n",
    "\n",
    "Translation files for the various strings are included as well."
   ]
  },
  {
   "cell_type": "markdown",
   "metadata": {},
   "source": [
    "### Matching Country ISO codes\n",
    "\n",
    "#### COUNTRIES (ISO 3166)\n",
    "Countries are accessible through a database object that is already configured upon import of [pycountry](https://pypi.org/project/pycountry/) and works as an iterable.\n",
    "\n",
    "In the first query to _pycountry_ let's import tha package and check how many countries are on the database (249 in total), secondly will check which is the first country on DB (Aruba), and last we will iterate over all records, will visualize the parameters for each country.\n",
    "\n",
    "As we can easily inspect the alpha_2 parameter defines  ISO 3166 Alpha-2 code as described in the [International Standard](https://www.iban.com/country-codes), as well as alpha_3, and then the short name, the numeric code and the official name."
   ]
  },
  {
   "cell_type": "code",
   "execution_count": 31,
   "metadata": {},
   "outputs": [
    {
     "data": {
      "text/plain": [
       "249"
      ]
     },
     "execution_count": 31,
     "metadata": {},
     "output_type": "execute_result"
    }
   ],
   "source": [
    "import pycountry\n",
    "len(pycountry.countries)"
   ]
  },
  {
   "cell_type": "code",
   "execution_count": 32,
   "metadata": {},
   "outputs": [
    {
     "data": {
      "text/plain": [
       "Country(alpha_2='AW', alpha_3='ABW', name='Aruba', numeric='533')"
      ]
     },
     "execution_count": 32,
     "metadata": {},
     "output_type": "execute_result"
    }
   ],
   "source": [
    "list(pycountry.countries)[0]"
   ]
  },
  {
   "cell_type": "code",
   "execution_count": 33,
   "metadata": {},
   "outputs": [
    {
     "name": "stdout",
     "output_type": "stream",
     "text": [
      "Country(alpha_2='AW', alpha_3='ABW', name='Aruba', numeric='533')\n",
      "Country(alpha_2='AF', alpha_3='AFG', name='Afghanistan', numeric='004', official_name='Islamic Republic of Afghanistan')\n",
      "Country(alpha_2='AO', alpha_3='AGO', name='Angola', numeric='024', official_name='Republic of Angola')\n",
      "Country(alpha_2='AI', alpha_3='AIA', name='Anguilla', numeric='660')\n",
      "Country(alpha_2='AX', alpha_3='ALA', name='Åland Islands', numeric='248')\n",
      "Country(alpha_2='AL', alpha_3='ALB', name='Albania', numeric='008', official_name='Republic of Albania')\n",
      "Country(alpha_2='AD', alpha_3='AND', name='Andorra', numeric='020', official_name='Principality of Andorra')\n",
      "Country(alpha_2='AE', alpha_3='ARE', name='United Arab Emirates', numeric='784')\n",
      "Country(alpha_2='AR', alpha_3='ARG', name='Argentina', numeric='032', official_name='Argentine Republic')\n",
      "Country(alpha_2='AM', alpha_3='ARM', name='Armenia', numeric='051', official_name='Republic of Armenia')\n",
      "Country(alpha_2='AS', alpha_3='ASM', name='American Samoa', numeric='016')\n",
      "Country(alpha_2='AQ', alpha_3='ATA', name='Antarctica', numeric='010')\n",
      "Country(alpha_2='TF', alpha_3='ATF', name='French Southern Territories', numeric='260')\n",
      "Country(alpha_2='AG', alpha_3='ATG', name='Antigua and Barbuda', numeric='028')\n",
      "Country(alpha_2='AU', alpha_3='AUS', name='Australia', numeric='036')\n",
      "Country(alpha_2='AT', alpha_3='AUT', name='Austria', numeric='040', official_name='Republic of Austria')\n",
      "Country(alpha_2='AZ', alpha_3='AZE', name='Azerbaijan', numeric='031', official_name='Republic of Azerbaijan')\n",
      "Country(alpha_2='BI', alpha_3='BDI', name='Burundi', numeric='108', official_name='Republic of Burundi')\n",
      "Country(alpha_2='BE', alpha_3='BEL', name='Belgium', numeric='056', official_name='Kingdom of Belgium')\n",
      "Country(alpha_2='BJ', alpha_3='BEN', name='Benin', numeric='204', official_name='Republic of Benin')\n",
      "Country(alpha_2='BQ', alpha_3='BES', name='Bonaire, Sint Eustatius and Saba', numeric='535', official_name='Bonaire, Sint Eustatius and Saba')\n",
      "Country(alpha_2='BF', alpha_3='BFA', name='Burkina Faso', numeric='854')\n",
      "Country(alpha_2='BD', alpha_3='BGD', name='Bangladesh', numeric='050', official_name=\"People's Republic of Bangladesh\")\n",
      "Country(alpha_2='BG', alpha_3='BGR', name='Bulgaria', numeric='100', official_name='Republic of Bulgaria')\n",
      "Country(alpha_2='BH', alpha_3='BHR', name='Bahrain', numeric='048', official_name='Kingdom of Bahrain')\n",
      "Country(alpha_2='BS', alpha_3='BHS', name='Bahamas', numeric='044', official_name='Commonwealth of the Bahamas')\n",
      "Country(alpha_2='BA', alpha_3='BIH', name='Bosnia and Herzegovina', numeric='070', official_name='Republic of Bosnia and Herzegovina')\n",
      "Country(alpha_2='BL', alpha_3='BLM', name='Saint Barthélemy', numeric='652')\n",
      "Country(alpha_2='BY', alpha_3='BLR', name='Belarus', numeric='112', official_name='Republic of Belarus')\n",
      "Country(alpha_2='BZ', alpha_3='BLZ', name='Belize', numeric='084')\n",
      "Country(alpha_2='BM', alpha_3='BMU', name='Bermuda', numeric='060')\n",
      "Country(alpha_2='BO', alpha_3='BOL', common_name='Bolivia', name='Bolivia, Plurinational State of', numeric='068', official_name='Plurinational State of Bolivia')\n",
      "Country(alpha_2='BR', alpha_3='BRA', name='Brazil', numeric='076', official_name='Federative Republic of Brazil')\n",
      "Country(alpha_2='BB', alpha_3='BRB', name='Barbados', numeric='052')\n",
      "Country(alpha_2='BN', alpha_3='BRN', name='Brunei Darussalam', numeric='096')\n",
      "Country(alpha_2='BT', alpha_3='BTN', name='Bhutan', numeric='064', official_name='Kingdom of Bhutan')\n",
      "Country(alpha_2='BV', alpha_3='BVT', name='Bouvet Island', numeric='074')\n",
      "Country(alpha_2='BW', alpha_3='BWA', name='Botswana', numeric='072', official_name='Republic of Botswana')\n",
      "Country(alpha_2='CF', alpha_3='CAF', name='Central African Republic', numeric='140')\n",
      "Country(alpha_2='CA', alpha_3='CAN', name='Canada', numeric='124')\n",
      "Country(alpha_2='CC', alpha_3='CCK', name='Cocos (Keeling) Islands', numeric='166')\n",
      "Country(alpha_2='CH', alpha_3='CHE', name='Switzerland', numeric='756', official_name='Swiss Confederation')\n",
      "Country(alpha_2='CL', alpha_3='CHL', name='Chile', numeric='152', official_name='Republic of Chile')\n",
      "Country(alpha_2='CN', alpha_3='CHN', name='China', numeric='156', official_name=\"People's Republic of China\")\n",
      "Country(alpha_2='CI', alpha_3='CIV', name=\"Côte d'Ivoire\", numeric='384', official_name=\"Republic of Côte d'Ivoire\")\n",
      "Country(alpha_2='CM', alpha_3='CMR', name='Cameroon', numeric='120', official_name='Republic of Cameroon')\n",
      "Country(alpha_2='CD', alpha_3='COD', name='Congo, The Democratic Republic of the', numeric='180')\n",
      "Country(alpha_2='CG', alpha_3='COG', name='Congo', numeric='178', official_name='Republic of the Congo')\n",
      "Country(alpha_2='CK', alpha_3='COK', name='Cook Islands', numeric='184')\n",
      "Country(alpha_2='CO', alpha_3='COL', name='Colombia', numeric='170', official_name='Republic of Colombia')\n",
      "Country(alpha_2='KM', alpha_3='COM', name='Comoros', numeric='174', official_name='Union of the Comoros')\n",
      "Country(alpha_2='CV', alpha_3='CPV', name='Cabo Verde', numeric='132', official_name='Republic of Cabo Verde')\n",
      "Country(alpha_2='CR', alpha_3='CRI', name='Costa Rica', numeric='188', official_name='Republic of Costa Rica')\n",
      "Country(alpha_2='CU', alpha_3='CUB', name='Cuba', numeric='192', official_name='Republic of Cuba')\n",
      "Country(alpha_2='CW', alpha_3='CUW', name='Curaçao', numeric='531', official_name='Curaçao')\n",
      "Country(alpha_2='CX', alpha_3='CXR', name='Christmas Island', numeric='162')\n",
      "Country(alpha_2='KY', alpha_3='CYM', name='Cayman Islands', numeric='136')\n",
      "Country(alpha_2='CY', alpha_3='CYP', name='Cyprus', numeric='196', official_name='Republic of Cyprus')\n",
      "Country(alpha_2='CZ', alpha_3='CZE', name='Czechia', numeric='203', official_name='Czech Republic')\n",
      "Country(alpha_2='DE', alpha_3='DEU', name='Germany', numeric='276', official_name='Federal Republic of Germany')\n",
      "Country(alpha_2='DJ', alpha_3='DJI', name='Djibouti', numeric='262', official_name='Republic of Djibouti')\n",
      "Country(alpha_2='DM', alpha_3='DMA', name='Dominica', numeric='212', official_name='Commonwealth of Dominica')\n",
      "Country(alpha_2='DK', alpha_3='DNK', name='Denmark', numeric='208', official_name='Kingdom of Denmark')\n",
      "Country(alpha_2='DO', alpha_3='DOM', name='Dominican Republic', numeric='214')\n",
      "Country(alpha_2='DZ', alpha_3='DZA', name='Algeria', numeric='012', official_name=\"People's Democratic Republic of Algeria\")\n",
      "Country(alpha_2='EC', alpha_3='ECU', name='Ecuador', numeric='218', official_name='Republic of Ecuador')\n",
      "Country(alpha_2='EG', alpha_3='EGY', name='Egypt', numeric='818', official_name='Arab Republic of Egypt')\n",
      "Country(alpha_2='ER', alpha_3='ERI', name='Eritrea', numeric='232', official_name='the State of Eritrea')\n",
      "Country(alpha_2='EH', alpha_3='ESH', name='Western Sahara', numeric='732')\n",
      "Country(alpha_2='ES', alpha_3='ESP', name='Spain', numeric='724', official_name='Kingdom of Spain')\n",
      "Country(alpha_2='EE', alpha_3='EST', name='Estonia', numeric='233', official_name='Republic of Estonia')\n",
      "Country(alpha_2='ET', alpha_3='ETH', name='Ethiopia', numeric='231', official_name='Federal Democratic Republic of Ethiopia')\n",
      "Country(alpha_2='FI', alpha_3='FIN', name='Finland', numeric='246', official_name='Republic of Finland')\n",
      "Country(alpha_2='FJ', alpha_3='FJI', name='Fiji', numeric='242', official_name='Republic of Fiji')\n",
      "Country(alpha_2='FK', alpha_3='FLK', name='Falkland Islands (Malvinas)', numeric='238')\n",
      "Country(alpha_2='FR', alpha_3='FRA', name='France', numeric='250', official_name='French Republic')\n",
      "Country(alpha_2='FO', alpha_3='FRO', name='Faroe Islands', numeric='234')\n",
      "Country(alpha_2='FM', alpha_3='FSM', name='Micronesia, Federated States of', numeric='583', official_name='Federated States of Micronesia')\n",
      "Country(alpha_2='GA', alpha_3='GAB', name='Gabon', numeric='266', official_name='Gabonese Republic')\n",
      "Country(alpha_2='GB', alpha_3='GBR', name='United Kingdom', numeric='826', official_name='United Kingdom of Great Britain and Northern Ireland')\n",
      "Country(alpha_2='GE', alpha_3='GEO', name='Georgia', numeric='268')\n",
      "Country(alpha_2='GG', alpha_3='GGY', name='Guernsey', numeric='831')\n",
      "Country(alpha_2='GH', alpha_3='GHA', name='Ghana', numeric='288', official_name='Republic of Ghana')\n",
      "Country(alpha_2='GI', alpha_3='GIB', name='Gibraltar', numeric='292')\n",
      "Country(alpha_2='GN', alpha_3='GIN', name='Guinea', numeric='324', official_name='Republic of Guinea')\n",
      "Country(alpha_2='GP', alpha_3='GLP', name='Guadeloupe', numeric='312')\n",
      "Country(alpha_2='GM', alpha_3='GMB', name='Gambia', numeric='270', official_name='Republic of the Gambia')\n",
      "Country(alpha_2='GW', alpha_3='GNB', name='Guinea-Bissau', numeric='624', official_name='Republic of Guinea-Bissau')\n",
      "Country(alpha_2='GQ', alpha_3='GNQ', name='Equatorial Guinea', numeric='226', official_name='Republic of Equatorial Guinea')\n",
      "Country(alpha_2='GR', alpha_3='GRC', name='Greece', numeric='300', official_name='Hellenic Republic')\n",
      "Country(alpha_2='GD', alpha_3='GRD', name='Grenada', numeric='308')\n",
      "Country(alpha_2='GL', alpha_3='GRL', name='Greenland', numeric='304')\n",
      "Country(alpha_2='GT', alpha_3='GTM', name='Guatemala', numeric='320', official_name='Republic of Guatemala')\n",
      "Country(alpha_2='GF', alpha_3='GUF', name='French Guiana', numeric='254')\n",
      "Country(alpha_2='GU', alpha_3='GUM', name='Guam', numeric='316')\n",
      "Country(alpha_2='GY', alpha_3='GUY', name='Guyana', numeric='328', official_name='Republic of Guyana')\n",
      "Country(alpha_2='HK', alpha_3='HKG', name='Hong Kong', numeric='344', official_name='Hong Kong Special Administrative Region of China')\n",
      "Country(alpha_2='HM', alpha_3='HMD', name='Heard Island and McDonald Islands', numeric='334')\n",
      "Country(alpha_2='HN', alpha_3='HND', name='Honduras', numeric='340', official_name='Republic of Honduras')\n",
      "Country(alpha_2='HR', alpha_3='HRV', name='Croatia', numeric='191', official_name='Republic of Croatia')\n",
      "Country(alpha_2='HT', alpha_3='HTI', name='Haiti', numeric='332', official_name='Republic of Haiti')\n",
      "Country(alpha_2='HU', alpha_3='HUN', name='Hungary', numeric='348', official_name='Hungary')\n",
      "Country(alpha_2='ID', alpha_3='IDN', name='Indonesia', numeric='360', official_name='Republic of Indonesia')\n",
      "Country(alpha_2='IM', alpha_3='IMN', name='Isle of Man', numeric='833')\n",
      "Country(alpha_2='IN', alpha_3='IND', name='India', numeric='356', official_name='Republic of India')\n",
      "Country(alpha_2='IO', alpha_3='IOT', name='British Indian Ocean Territory', numeric='086')\n",
      "Country(alpha_2='IE', alpha_3='IRL', name='Ireland', numeric='372')\n",
      "Country(alpha_2='IR', alpha_3='IRN', name='Iran, Islamic Republic of', numeric='364', official_name='Islamic Republic of Iran')\n",
      "Country(alpha_2='IQ', alpha_3='IRQ', name='Iraq', numeric='368', official_name='Republic of Iraq')\n",
      "Country(alpha_2='IS', alpha_3='ISL', name='Iceland', numeric='352', official_name='Republic of Iceland')\n",
      "Country(alpha_2='IL', alpha_3='ISR', name='Israel', numeric='376', official_name='State of Israel')\n",
      "Country(alpha_2='IT', alpha_3='ITA', name='Italy', numeric='380', official_name='Italian Republic')\n",
      "Country(alpha_2='JM', alpha_3='JAM', name='Jamaica', numeric='388')\n",
      "Country(alpha_2='JE', alpha_3='JEY', name='Jersey', numeric='832')\n",
      "Country(alpha_2='JO', alpha_3='JOR', name='Jordan', numeric='400', official_name='Hashemite Kingdom of Jordan')\n",
      "Country(alpha_2='JP', alpha_3='JPN', name='Japan', numeric='392')\n",
      "Country(alpha_2='KZ', alpha_3='KAZ', name='Kazakhstan', numeric='398', official_name='Republic of Kazakhstan')\n",
      "Country(alpha_2='KE', alpha_3='KEN', name='Kenya', numeric='404', official_name='Republic of Kenya')\n",
      "Country(alpha_2='KG', alpha_3='KGZ', name='Kyrgyzstan', numeric='417', official_name='Kyrgyz Republic')\n",
      "Country(alpha_2='KH', alpha_3='KHM', name='Cambodia', numeric='116', official_name='Kingdom of Cambodia')\n",
      "Country(alpha_2='KI', alpha_3='KIR', name='Kiribati', numeric='296', official_name='Republic of Kiribati')\n",
      "Country(alpha_2='KN', alpha_3='KNA', name='Saint Kitts and Nevis', numeric='659')\n",
      "Country(alpha_2='KR', alpha_3='KOR', name='Korea, Republic of', numeric='410')\n",
      "Country(alpha_2='KW', alpha_3='KWT', name='Kuwait', numeric='414', official_name='State of Kuwait')\n",
      "Country(alpha_2='LA', alpha_3='LAO', name=\"Lao People's Democratic Republic\", numeric='418')\n",
      "Country(alpha_2='LB', alpha_3='LBN', name='Lebanon', numeric='422', official_name='Lebanese Republic')\n",
      "Country(alpha_2='LR', alpha_3='LBR', name='Liberia', numeric='430', official_name='Republic of Liberia')\n",
      "Country(alpha_2='LY', alpha_3='LBY', name='Libya', numeric='434', official_name='Libya')\n",
      "Country(alpha_2='LC', alpha_3='LCA', name='Saint Lucia', numeric='662')\n",
      "Country(alpha_2='LI', alpha_3='LIE', name='Liechtenstein', numeric='438', official_name='Principality of Liechtenstein')\n",
      "Country(alpha_2='LK', alpha_3='LKA', name='Sri Lanka', numeric='144', official_name='Democratic Socialist Republic of Sri Lanka')\n",
      "Country(alpha_2='LS', alpha_3='LSO', name='Lesotho', numeric='426', official_name='Kingdom of Lesotho')\n",
      "Country(alpha_2='LT', alpha_3='LTU', name='Lithuania', numeric='440', official_name='Republic of Lithuania')\n",
      "Country(alpha_2='LU', alpha_3='LUX', name='Luxembourg', numeric='442', official_name='Grand Duchy of Luxembourg')\n",
      "Country(alpha_2='LV', alpha_3='LVA', name='Latvia', numeric='428', official_name='Republic of Latvia')\n",
      "Country(alpha_2='MO', alpha_3='MAC', name='Macao', numeric='446', official_name='Macao Special Administrative Region of China')\n",
      "Country(alpha_2='MF', alpha_3='MAF', name='Saint Martin (French part)', numeric='663')\n",
      "Country(alpha_2='MA', alpha_3='MAR', name='Morocco', numeric='504', official_name='Kingdom of Morocco')\n",
      "Country(alpha_2='MC', alpha_3='MCO', name='Monaco', numeric='492', official_name='Principality of Monaco')\n",
      "Country(alpha_2='MD', alpha_3='MDA', common_name='Moldova', name='Moldova, Republic of', numeric='498', official_name='Republic of Moldova')\n",
      "Country(alpha_2='MG', alpha_3='MDG', name='Madagascar', numeric='450', official_name='Republic of Madagascar')\n",
      "Country(alpha_2='MV', alpha_3='MDV', name='Maldives', numeric='462', official_name='Republic of Maldives')\n",
      "Country(alpha_2='MX', alpha_3='MEX', name='Mexico', numeric='484', official_name='United Mexican States')\n",
      "Country(alpha_2='MH', alpha_3='MHL', name='Marshall Islands', numeric='584', official_name='Republic of the Marshall Islands')\n",
      "Country(alpha_2='MK', alpha_3='MKD', name='North Macedonia', numeric='807', official_name='Republic of North Macedonia')\n",
      "Country(alpha_2='ML', alpha_3='MLI', name='Mali', numeric='466', official_name='Republic of Mali')\n",
      "Country(alpha_2='MT', alpha_3='MLT', name='Malta', numeric='470', official_name='Republic of Malta')\n",
      "Country(alpha_2='MM', alpha_3='MMR', name='Myanmar', numeric='104', official_name='Republic of Myanmar')\n",
      "Country(alpha_2='ME', alpha_3='MNE', name='Montenegro', numeric='499', official_name='Montenegro')\n",
      "Country(alpha_2='MN', alpha_3='MNG', name='Mongolia', numeric='496')\n",
      "Country(alpha_2='MP', alpha_3='MNP', name='Northern Mariana Islands', numeric='580', official_name='Commonwealth of the Northern Mariana Islands')\n",
      "Country(alpha_2='MZ', alpha_3='MOZ', name='Mozambique', numeric='508', official_name='Republic of Mozambique')\n",
      "Country(alpha_2='MR', alpha_3='MRT', name='Mauritania', numeric='478', official_name='Islamic Republic of Mauritania')\n",
      "Country(alpha_2='MS', alpha_3='MSR', name='Montserrat', numeric='500')\n",
      "Country(alpha_2='MQ', alpha_3='MTQ', name='Martinique', numeric='474')\n",
      "Country(alpha_2='MU', alpha_3='MUS', name='Mauritius', numeric='480', official_name='Republic of Mauritius')\n",
      "Country(alpha_2='MW', alpha_3='MWI', name='Malawi', numeric='454', official_name='Republic of Malawi')\n",
      "Country(alpha_2='MY', alpha_3='MYS', name='Malaysia', numeric='458')\n",
      "Country(alpha_2='YT', alpha_3='MYT', name='Mayotte', numeric='175')\n",
      "Country(alpha_2='NA', alpha_3='NAM', name='Namibia', numeric='516', official_name='Republic of Namibia')\n",
      "Country(alpha_2='NC', alpha_3='NCL', name='New Caledonia', numeric='540')\n",
      "Country(alpha_2='NE', alpha_3='NER', name='Niger', numeric='562', official_name='Republic of the Niger')\n",
      "Country(alpha_2='NF', alpha_3='NFK', name='Norfolk Island', numeric='574')\n",
      "Country(alpha_2='NG', alpha_3='NGA', name='Nigeria', numeric='566', official_name='Federal Republic of Nigeria')\n",
      "Country(alpha_2='NI', alpha_3='NIC', name='Nicaragua', numeric='558', official_name='Republic of Nicaragua')\n",
      "Country(alpha_2='NU', alpha_3='NIU', name='Niue', numeric='570', official_name='Niue')\n",
      "Country(alpha_2='NL', alpha_3='NLD', name='Netherlands', numeric='528', official_name='Kingdom of the Netherlands')\n",
      "Country(alpha_2='NO', alpha_3='NOR', name='Norway', numeric='578', official_name='Kingdom of Norway')\n",
      "Country(alpha_2='NP', alpha_3='NPL', name='Nepal', numeric='524', official_name='Federal Democratic Republic of Nepal')\n",
      "Country(alpha_2='NR', alpha_3='NRU', name='Nauru', numeric='520', official_name='Republic of Nauru')\n",
      "Country(alpha_2='NZ', alpha_3='NZL', name='New Zealand', numeric='554')\n",
      "Country(alpha_2='OM', alpha_3='OMN', name='Oman', numeric='512', official_name='Sultanate of Oman')\n",
      "Country(alpha_2='PK', alpha_3='PAK', name='Pakistan', numeric='586', official_name='Islamic Republic of Pakistan')\n",
      "Country(alpha_2='PA', alpha_3='PAN', name='Panama', numeric='591', official_name='Republic of Panama')\n",
      "Country(alpha_2='PN', alpha_3='PCN', name='Pitcairn', numeric='612')\n",
      "Country(alpha_2='PE', alpha_3='PER', name='Peru', numeric='604', official_name='Republic of Peru')\n",
      "Country(alpha_2='PH', alpha_3='PHL', name='Philippines', numeric='608', official_name='Republic of the Philippines')\n",
      "Country(alpha_2='PW', alpha_3='PLW', name='Palau', numeric='585', official_name='Republic of Palau')\n",
      "Country(alpha_2='PG', alpha_3='PNG', name='Papua New Guinea', numeric='598', official_name='Independent State of Papua New Guinea')\n",
      "Country(alpha_2='PL', alpha_3='POL', name='Poland', numeric='616', official_name='Republic of Poland')\n",
      "Country(alpha_2='PR', alpha_3='PRI', name='Puerto Rico', numeric='630')\n",
      "Country(alpha_2='KP', alpha_3='PRK', name=\"Korea, Democratic People's Republic of\", numeric='408', official_name=\"Democratic People's Republic of Korea\")\n",
      "Country(alpha_2='PT', alpha_3='PRT', name='Portugal', numeric='620', official_name='Portuguese Republic')\n",
      "Country(alpha_2='PY', alpha_3='PRY', name='Paraguay', numeric='600', official_name='Republic of Paraguay')\n",
      "Country(alpha_2='PS', alpha_3='PSE', name='Palestine, State of', numeric='275', official_name='the State of Palestine')\n",
      "Country(alpha_2='PF', alpha_3='PYF', name='French Polynesia', numeric='258')\n",
      "Country(alpha_2='QA', alpha_3='QAT', name='Qatar', numeric='634', official_name='State of Qatar')\n",
      "Country(alpha_2='RE', alpha_3='REU', name='Réunion', numeric='638')\n",
      "Country(alpha_2='RO', alpha_3='ROU', name='Romania', numeric='642')\n",
      "Country(alpha_2='RU', alpha_3='RUS', name='Russian Federation', numeric='643')\n",
      "Country(alpha_2='RW', alpha_3='RWA', name='Rwanda', numeric='646', official_name='Rwandese Republic')\n",
      "Country(alpha_2='SA', alpha_3='SAU', name='Saudi Arabia', numeric='682', official_name='Kingdom of Saudi Arabia')\n",
      "Country(alpha_2='SD', alpha_3='SDN', name='Sudan', numeric='729', official_name='Republic of the Sudan')\n",
      "Country(alpha_2='SN', alpha_3='SEN', name='Senegal', numeric='686', official_name='Republic of Senegal')\n",
      "Country(alpha_2='SG', alpha_3='SGP', name='Singapore', numeric='702', official_name='Republic of Singapore')\n",
      "Country(alpha_2='GS', alpha_3='SGS', name='South Georgia and the South Sandwich Islands', numeric='239')\n",
      "Country(alpha_2='SH', alpha_3='SHN', name='Saint Helena, Ascension and Tristan da Cunha', numeric='654')\n",
      "Country(alpha_2='SJ', alpha_3='SJM', name='Svalbard and Jan Mayen', numeric='744')\n",
      "Country(alpha_2='SB', alpha_3='SLB', name='Solomon Islands', numeric='090')\n",
      "Country(alpha_2='SL', alpha_3='SLE', name='Sierra Leone', numeric='694', official_name='Republic of Sierra Leone')\n",
      "Country(alpha_2='SV', alpha_3='SLV', name='El Salvador', numeric='222', official_name='Republic of El Salvador')\n",
      "Country(alpha_2='SM', alpha_3='SMR', name='San Marino', numeric='674', official_name='Republic of San Marino')\n",
      "Country(alpha_2='SO', alpha_3='SOM', name='Somalia', numeric='706', official_name='Federal Republic of Somalia')\n",
      "Country(alpha_2='PM', alpha_3='SPM', name='Saint Pierre and Miquelon', numeric='666')\n",
      "Country(alpha_2='RS', alpha_3='SRB', name='Serbia', numeric='688', official_name='Republic of Serbia')\n",
      "Country(alpha_2='SS', alpha_3='SSD', name='South Sudan', numeric='728', official_name='Republic of South Sudan')\n",
      "Country(alpha_2='ST', alpha_3='STP', name='Sao Tome and Principe', numeric='678', official_name='Democratic Republic of Sao Tome and Principe')\n",
      "Country(alpha_2='SR', alpha_3='SUR', name='Suriname', numeric='740', official_name='Republic of Suriname')\n",
      "Country(alpha_2='SK', alpha_3='SVK', name='Slovakia', numeric='703', official_name='Slovak Republic')\n",
      "Country(alpha_2='SI', alpha_3='SVN', name='Slovenia', numeric='705', official_name='Republic of Slovenia')\n",
      "Country(alpha_2='SE', alpha_3='SWE', name='Sweden', numeric='752', official_name='Kingdom of Sweden')\n",
      "Country(alpha_2='SZ', alpha_3='SWZ', name='Eswatini', numeric='748', official_name='Kingdom of Eswatini')\n",
      "Country(alpha_2='SX', alpha_3='SXM', name='Sint Maarten (Dutch part)', numeric='534', official_name='Sint Maarten (Dutch part)')\n",
      "Country(alpha_2='SC', alpha_3='SYC', name='Seychelles', numeric='690', official_name='Republic of Seychelles')\n",
      "Country(alpha_2='SY', alpha_3='SYR', name='Syrian Arab Republic', numeric='760')\n",
      "Country(alpha_2='TC', alpha_3='TCA', name='Turks and Caicos Islands', numeric='796')\n",
      "Country(alpha_2='TD', alpha_3='TCD', name='Chad', numeric='148', official_name='Republic of Chad')\n",
      "Country(alpha_2='TG', alpha_3='TGO', name='Togo', numeric='768', official_name='Togolese Republic')\n",
      "Country(alpha_2='TH', alpha_3='THA', name='Thailand', numeric='764', official_name='Kingdom of Thailand')\n",
      "Country(alpha_2='TJ', alpha_3='TJK', name='Tajikistan', numeric='762', official_name='Republic of Tajikistan')\n",
      "Country(alpha_2='TK', alpha_3='TKL', name='Tokelau', numeric='772')\n",
      "Country(alpha_2='TM', alpha_3='TKM', name='Turkmenistan', numeric='795')\n",
      "Country(alpha_2='TL', alpha_3='TLS', name='Timor-Leste', numeric='626', official_name='Democratic Republic of Timor-Leste')\n",
      "Country(alpha_2='TO', alpha_3='TON', name='Tonga', numeric='776', official_name='Kingdom of Tonga')\n",
      "Country(alpha_2='TT', alpha_3='TTO', name='Trinidad and Tobago', numeric='780', official_name='Republic of Trinidad and Tobago')\n",
      "Country(alpha_2='TN', alpha_3='TUN', name='Tunisia', numeric='788', official_name='Republic of Tunisia')\n",
      "Country(alpha_2='TR', alpha_3='TUR', name='Turkey', numeric='792', official_name='Republic of Turkey')\n",
      "Country(alpha_2='TV', alpha_3='TUV', name='Tuvalu', numeric='798')\n",
      "Country(alpha_2='TW', alpha_3='TWN', common_name='Taiwan', name='Taiwan, Province of China', numeric='158', official_name='Taiwan, Province of China')\n",
      "Country(alpha_2='TZ', alpha_3='TZA', common_name='Tanzania', name='Tanzania, United Republic of', numeric='834', official_name='United Republic of Tanzania')\n",
      "Country(alpha_2='UG', alpha_3='UGA', name='Uganda', numeric='800', official_name='Republic of Uganda')\n",
      "Country(alpha_2='UA', alpha_3='UKR', name='Ukraine', numeric='804')\n",
      "Country(alpha_2='UM', alpha_3='UMI', name='United States Minor Outlying Islands', numeric='581')\n",
      "Country(alpha_2='UY', alpha_3='URY', name='Uruguay', numeric='858', official_name='Eastern Republic of Uruguay')\n",
      "Country(alpha_2='US', alpha_3='USA', name='United States', numeric='840', official_name='United States of America')\n",
      "Country(alpha_2='UZ', alpha_3='UZB', name='Uzbekistan', numeric='860', official_name='Republic of Uzbekistan')\n",
      "Country(alpha_2='VA', alpha_3='VAT', name='Holy See (Vatican City State)', numeric='336')\n",
      "Country(alpha_2='VC', alpha_3='VCT', name='Saint Vincent and the Grenadines', numeric='670')\n",
      "Country(alpha_2='VE', alpha_3='VEN', common_name='Venezuela', name='Venezuela, Bolivarian Republic of', numeric='862', official_name='Bolivarian Republic of Venezuela')\n",
      "Country(alpha_2='VG', alpha_3='VGB', name='Virgin Islands, British', numeric='092', official_name='British Virgin Islands')\n",
      "Country(alpha_2='VI', alpha_3='VIR', name='Virgin Islands, U.S.', numeric='850', official_name='Virgin Islands of the United States')\n",
      "Country(alpha_2='VN', alpha_3='VNM', common_name='Vietnam', name='Viet Nam', numeric='704', official_name='Socialist Republic of Viet Nam')\n",
      "Country(alpha_2='VU', alpha_3='VUT', name='Vanuatu', numeric='548', official_name='Republic of Vanuatu')\n",
      "Country(alpha_2='WF', alpha_3='WLF', name='Wallis and Futuna', numeric='876')\n",
      "Country(alpha_2='WS', alpha_3='WSM', name='Samoa', numeric='882', official_name='Independent State of Samoa')\n",
      "Country(alpha_2='YE', alpha_3='YEM', name='Yemen', numeric='887', official_name='Republic of Yemen')\n",
      "Country(alpha_2='ZA', alpha_3='ZAF', name='South Africa', numeric='710', official_name='Republic of South Africa')\n",
      "Country(alpha_2='ZM', alpha_3='ZMB', name='Zambia', numeric='894', official_name='Republic of Zambia')\n",
      "Country(alpha_2='ZW', alpha_3='ZWE', name='Zimbabwe', numeric='716', official_name='Republic of Zimbabwe')\n"
     ]
    }
   ],
   "source": [
    "for country in pycountry.countries:\n",
    "    print(country)"
   ]
  },
  {
   "cell_type": "markdown",
   "metadata": {},
   "source": [
    "Specific countries can be looked up by their various codes and provide the information included in the standard as attributes. I will do the example with my Country of Birth, looking for the alpha_2 and 3 codes, numeric code, name and official_name, last one is the name I am not very proud of... but anyway..."
   ]
  },
  {
   "cell_type": "code",
   "execution_count": 34,
   "metadata": {},
   "outputs": [
    {
     "name": "stdout",
     "output_type": "stream",
     "text": [
      "Country(alpha_2='VE', alpha_3='VEN', common_name='Venezuela', name='Venezuela, Bolivarian Republic of', numeric='862', official_name='Bolivarian Republic of Venezuela')\n",
      "VE\n",
      "VEN\n",
      "862\n",
      "Venezuela, Bolivarian Republic of\n",
      "Bolivarian Republic of Venezuela\n"
     ]
    }
   ],
   "source": [
    "Venezuela = pycountry.countries.get(alpha_2='VE')\n",
    "print(Venezuela)\n",
    "print(Venezuela.alpha_2)\n",
    "print(Venezuela.alpha_3)\n",
    "print(Venezuela.numeric)\n",
    "print(Venezuela.name)\n",
    "print(Venezuela.official_name)"
   ]
  },
  {
   "cell_type": "markdown",
   "metadata": {},
   "source": [
    "The historic_countries database contains former countries that have been removed from the standard and are now included in ISO 3166-3, in addition to the existing ones. For example, let's look for the information of the former URSS, now days know as Russia."
   ]
  },
  {
   "cell_type": "code",
   "execution_count": 35,
   "metadata": {},
   "outputs": [
    {
     "data": {
      "text/plain": [
       "Country(alpha_2='SU', alpha_3='SUN', alpha_4='SUHH', name='USSR, Union of Soviet Socialist Republics', numeric='810', withdrawal_date='1992-08-30')"
      ]
     },
     "execution_count": 35,
     "metadata": {},
     "output_type": "execute_result"
    }
   ],
   "source": [
    "URSS = pycountry.historic_countries.get(alpha_2='SU')\n",
    "URSS"
   ]
  },
  {
   "cell_type": "code",
   "execution_count": 36,
   "metadata": {},
   "outputs": [
    {
     "data": {
      "text/plain": [
       "Country(alpha_2='RU', alpha_3='RUS', name='Russian Federation', numeric='643')"
      ]
     },
     "execution_count": 36,
     "metadata": {},
     "output_type": "execute_result"
    }
   ],
   "source": [
    "Russia = pycountry.countries.get(alpha_2='RU')\n",
    "Russia"
   ]
  },
  {
   "cell_type": "markdown",
   "metadata": {},
   "source": [
    "#### COUNTRY SUBDIVISIONS (ISO 3166-2)\n",
    "\n",
    "The country subdivisions are a little more complex than the countries itself because they provide a nested and typed structure.\n",
    "\n",
    "All subdivisons can be accessed directly, first let's check how many subdivisions exists for all the ISO Countries, and then which would be the first subdivision on that list, it corresponds to country_code **'AD'**, Andorra, and it is Canillo parish."
   ]
  },
  {
   "cell_type": "code",
   "execution_count": 37,
   "metadata": {},
   "outputs": [
    {
     "data": {
      "text/plain": [
       "4844"
      ]
     },
     "execution_count": 37,
     "metadata": {},
     "output_type": "execute_result"
    }
   ],
   "source": [
    "len(pycountry.subdivisions)"
   ]
  },
  {
   "cell_type": "code",
   "execution_count": 38,
   "metadata": {},
   "outputs": [
    {
     "data": {
      "text/plain": [
       "Subdivision(code='AD-02', country_code='AD', name='Canillo', parent_code=None, type='Parish')"
      ]
     },
     "execution_count": 38,
     "metadata": {},
     "output_type": "execute_result"
    }
   ],
   "source": [
    "list(pycountry.subdivisions)[0]"
   ]
  },
  {
   "cell_type": "markdown",
   "metadata": {},
   "source": [
    "Subdivisions can be accessed using their unique code and provide at least their code, name and type, in this example will query one of the venezuelan subdivisions, where specifically locates the capital city [Caracas](https://en.wikipedia.org/wiki/Caracas) in _Distrito Federal_."
   ]
  },
  {
   "cell_type": "code",
   "execution_count": 39,
   "metadata": {},
   "outputs": [
    {
     "name": "stdout",
     "output_type": "stream",
     "text": [
      "Subdivision(code='VE-A', country_code='VE', name='Distrito Federal', parent_code=None, type='Federal District')\n"
     ]
    }
   ],
   "source": [
    "venezuelan_state = pycountry.subdivisions.get(code='VE-A')\n",
    "print(venezuelan_state)"
   ]
  },
  {
   "cell_type": "markdown",
   "metadata": {},
   "source": [
    "#### SCRIPTS (ISO 15924)\n",
    "\n",
    "Scripts are available from a database similar to the countries, first will check how many scripts worldwide and their corresponding information.\n",
    "\n",
    "In the second example will get the complete information of our mother tongue script, which is _Latin_"
   ]
  },
  {
   "cell_type": "code",
   "execution_count": 40,
   "metadata": {},
   "outputs": [
    {
     "data": {
      "text/plain": [
       "182"
      ]
     },
     "execution_count": 40,
     "metadata": {},
     "output_type": "execute_result"
    }
   ],
   "source": [
    "len(pycountry.scripts)"
   ]
  },
  {
   "cell_type": "code",
   "execution_count": 41,
   "metadata": {},
   "outputs": [
    {
     "name": "stdout",
     "output_type": "stream",
     "text": [
      "Script(alpha_4='Adlm', name='Adlam', numeric='166')\n",
      "Script(alpha_4='Afak', name='Afaka', numeric='439')\n",
      "Script(alpha_4='Aghb', name='Caucasian Albanian', numeric='239')\n",
      "Script(alpha_4='Ahom', name='Ahom, Tai Ahom', numeric='338')\n",
      "Script(alpha_4='Arab', name='Arabic', numeric='160')\n",
      "Script(alpha_4='Aran', name='Arabic (Nastaliq variant)', numeric='161')\n",
      "Script(alpha_4='Armi', name='Imperial Aramaic', numeric='124')\n",
      "Script(alpha_4='Armn', name='Armenian', numeric='230')\n",
      "Script(alpha_4='Avst', name='Avestan', numeric='134')\n",
      "Script(alpha_4='Bali', name='Balinese', numeric='360')\n",
      "Script(alpha_4='Bamu', name='Bamum', numeric='435')\n",
      "Script(alpha_4='Bass', name='Bassa Vah', numeric='259')\n",
      "Script(alpha_4='Batk', name='Batak', numeric='365')\n",
      "Script(alpha_4='Beng', name='Bengali', numeric='325')\n",
      "Script(alpha_4='Bhks', name='Bhaiksuki', numeric='334')\n",
      "Script(alpha_4='Blis', name='Blissymbols', numeric='550')\n",
      "Script(alpha_4='Bopo', name='Bopomofo', numeric='285')\n",
      "Script(alpha_4='Brah', name='Brahmi', numeric='300')\n",
      "Script(alpha_4='Brai', name='Braille', numeric='570')\n",
      "Script(alpha_4='Bugi', name='Buginese', numeric='367')\n",
      "Script(alpha_4='Buhd', name='Buhid', numeric='372')\n",
      "Script(alpha_4='Cakm', name='Chakma', numeric='349')\n",
      "Script(alpha_4='Cans', name='Unified Canadian Aboriginal Syllabics', numeric='440')\n",
      "Script(alpha_4='Cari', name='Carian', numeric='201')\n",
      "Script(alpha_4='Cham', name='Cham', numeric='358')\n",
      "Script(alpha_4='Cher', name='Cherokee', numeric='445')\n",
      "Script(alpha_4='Cirt', name='Cirth', numeric='291')\n",
      "Script(alpha_4='Copt', name='Coptic', numeric='204')\n",
      "Script(alpha_4='Cprt', name='Cypriot', numeric='403')\n",
      "Script(alpha_4='Cyrl', name='Cyrillic', numeric='220')\n",
      "Script(alpha_4='Cyrs', name='Cyrillic (Old Church Slavonic variant)', numeric='221')\n",
      "Script(alpha_4='Deva', name='Devanagari (Nagari)', numeric='315')\n",
      "Script(alpha_4='Dsrt', name='Deseret (Mormon)', numeric='250')\n",
      "Script(alpha_4='Dupl', name='Duployan shorthand, Duployan stenography', numeric='755')\n",
      "Script(alpha_4='Egyd', name='Egyptian demotic', numeric='070')\n",
      "Script(alpha_4='Egyh', name='Egyptian hieratic', numeric='060')\n",
      "Script(alpha_4='Egyp', name='Egyptian hieroglyphs', numeric='050')\n",
      "Script(alpha_4='Elba', name='Elbasan', numeric='226')\n",
      "Script(alpha_4='Ethi', name='Ethiopic (Geʻez)', numeric='430')\n",
      "Script(alpha_4='Geok', name='Khutsuri (Asomtavruli and Nuskhuri)', numeric='241')\n",
      "Script(alpha_4='Geor', name='Georgian (Mkhedruli)', numeric='240')\n",
      "Script(alpha_4='Glag', name='Glagolitic', numeric='225')\n",
      "Script(alpha_4='Goth', name='Gothic', numeric='206')\n",
      "Script(alpha_4='Gran', name='Grantha', numeric='343')\n",
      "Script(alpha_4='Grek', name='Greek', numeric='200')\n",
      "Script(alpha_4='Gujr', name='Gujarati', numeric='320')\n",
      "Script(alpha_4='Guru', name='Gurmukhi', numeric='310')\n",
      "Script(alpha_4='Hanb', name='Han with Bopomofo (alias for Han + Bopomofo)', numeric='503')\n",
      "Script(alpha_4='Hang', name='Hangul (Hangŭl, Hangeul)', numeric='286')\n",
      "Script(alpha_4='Hani', name='Han (Hanzi, Kanji, Hanja)', numeric='500')\n",
      "Script(alpha_4='Hano', name='Hanunoo (Hanunóo)', numeric='371')\n",
      "Script(alpha_4='Hans', name='Han (Simplified variant)', numeric='501')\n",
      "Script(alpha_4='Hant', name='Han (Traditional variant)', numeric='502')\n",
      "Script(alpha_4='Hatr', name='Hatran', numeric='127')\n",
      "Script(alpha_4='Hebr', name='Hebrew', numeric='125')\n",
      "Script(alpha_4='Hira', name='Hiragana', numeric='410')\n",
      "Script(alpha_4='Hluw', name='Anatolian Hieroglyphs (Luwian Hieroglyphs, Hittite Hieroglyphs)', numeric='080')\n",
      "Script(alpha_4='Hmng', name='Pahawh Hmong', numeric='450')\n",
      "Script(alpha_4='Hrkt', name='Japanese syllabaries (alias for Hiragana + Katakana)', numeric='412')\n",
      "Script(alpha_4='Hung', name='Old Hungarian (Hungarian Runic)', numeric='176')\n",
      "Script(alpha_4='Inds', name='Indus (Harappan)', numeric='610')\n",
      "Script(alpha_4='Ital', name='Old Italic (Etruscan, Oscan, etc.)', numeric='210')\n",
      "Script(alpha_4='Jamo', name='Jamo (alias for Jamo subset of Hangul)', numeric='284')\n",
      "Script(alpha_4='Java', name='Javanese', numeric='361')\n",
      "Script(alpha_4='Jpan', name='Japanese (alias for Han + Hiragana + Katakana)', numeric='413')\n",
      "Script(alpha_4='Jurc', name='Jurchen', numeric='510')\n",
      "Script(alpha_4='Kali', name='Kayah Li', numeric='357')\n",
      "Script(alpha_4='Kana', name='Katakana', numeric='411')\n",
      "Script(alpha_4='Khar', name='Kharoshthi', numeric='305')\n",
      "Script(alpha_4='Khmr', name='Khmer', numeric='355')\n",
      "Script(alpha_4='Khoj', name='Khojki', numeric='322')\n",
      "Script(alpha_4='Kitl', name='Khitan large script', numeric='505')\n",
      "Script(alpha_4='Kits', name='Khitan small script', numeric='288')\n",
      "Script(alpha_4='Knda', name='Kannada', numeric='345')\n",
      "Script(alpha_4='Kore', name='Korean (alias for Hangul + Han)', numeric='287')\n",
      "Script(alpha_4='Kpel', name='Kpelle', numeric='436')\n",
      "Script(alpha_4='Kthi', name='Kaithi', numeric='317')\n",
      "Script(alpha_4='Lana', name='Tai Tham (Lanna)', numeric='351')\n",
      "Script(alpha_4='Laoo', name='Lao', numeric='356')\n",
      "Script(alpha_4='Latf', name='Latin (Fraktur variant)', numeric='217')\n",
      "Script(alpha_4='Latg', name='Latin (Gaelic variant)', numeric='216')\n",
      "Script(alpha_4='Latn', name='Latin', numeric='215')\n",
      "Script(alpha_4='Leke', name='Leke', numeric='364')\n",
      "Script(alpha_4='Lepc', name='Lepcha (Róng)', numeric='335')\n",
      "Script(alpha_4='Limb', name='Limbu', numeric='336')\n",
      "Script(alpha_4='Lina', name='Linear A', numeric='400')\n",
      "Script(alpha_4='Linb', name='Linear B', numeric='401')\n",
      "Script(alpha_4='Lisu', name='Lisu (Fraser)', numeric='399')\n",
      "Script(alpha_4='Loma', name='Loma', numeric='437')\n",
      "Script(alpha_4='Lyci', name='Lycian', numeric='202')\n",
      "Script(alpha_4='Lydi', name='Lydian', numeric='116')\n",
      "Script(alpha_4='Mahj', name='Mahajani', numeric='314')\n",
      "Script(alpha_4='Mand', name='Mandaic, Mandaean', numeric='140')\n",
      "Script(alpha_4='Mani', name='Manichaean', numeric='139')\n",
      "Script(alpha_4='Marc', name='Marchen', numeric='332')\n",
      "Script(alpha_4='Maya', name='Mayan hieroglyphs', numeric='090')\n",
      "Script(alpha_4='Mend', name='Mende Kikakui', numeric='438')\n",
      "Script(alpha_4='Merc', name='Meroitic Cursive', numeric='101')\n",
      "Script(alpha_4='Mero', name='Meroitic Hieroglyphs', numeric='100')\n",
      "Script(alpha_4='Mlym', name='Malayalam', numeric='347')\n",
      "Script(alpha_4='Modi', name='Modi, Moḍī', numeric='324')\n",
      "Script(alpha_4='Mong', name='Mongolian', numeric='145')\n",
      "Script(alpha_4='Moon', name='Moon (Moon code, Moon script, Moon type)', numeric='218')\n",
      "Script(alpha_4='Mroo', name='Mro, Mru', numeric='199')\n",
      "Script(alpha_4='Mtei', name='Meitei Mayek (Meithei, Meetei)', numeric='337')\n",
      "Script(alpha_4='Mult', name='Multani', numeric='323')\n",
      "Script(alpha_4='Mymr', name='Myanmar (Burmese)', numeric='350')\n",
      "Script(alpha_4='Narb', name='Old North Arabian (Ancient North Arabian)', numeric='106')\n",
      "Script(alpha_4='Nbat', name='Nabataean', numeric='159')\n",
      "Script(alpha_4='Newa', name='Newa, Newar, Newari, Nepāla lipi', numeric='333')\n",
      "Script(alpha_4='Nkgb', name=\"Nakhi Geba ('Na-'Khi ²Ggŏ-¹baw, Naxi Geba)\", numeric='420')\n",
      "Script(alpha_4='Nkoo', name='N’Ko', numeric='165')\n",
      "Script(alpha_4='Nshu', name='Nüshu', numeric='499')\n",
      "Script(alpha_4='Ogam', name='Ogham', numeric='212')\n",
      "Script(alpha_4='Olck', name='Ol Chiki (Ol Cemet’, Ol, Santali)', numeric='261')\n",
      "Script(alpha_4='Orkh', name='Old Turkic, Orkhon Runic', numeric='175')\n",
      "Script(alpha_4='Orya', name='Oriya', numeric='327')\n",
      "Script(alpha_4='Osge', name='Osage', numeric='219')\n",
      "Script(alpha_4='Osma', name='Osmanya', numeric='260')\n",
      "Script(alpha_4='Palm', name='Palmyrene', numeric='126')\n",
      "Script(alpha_4='Pauc', name='Pau Cin Hau', numeric='263')\n",
      "Script(alpha_4='Perm', name='Old Permic', numeric='227')\n",
      "Script(alpha_4='Phag', name='Phags-pa', numeric='331')\n",
      "Script(alpha_4='Phli', name='Inscriptional Pahlavi', numeric='131')\n",
      "Script(alpha_4='Phlp', name='Psalter Pahlavi', numeric='132')\n",
      "Script(alpha_4='Phlv', name='Book Pahlavi', numeric='133')\n",
      "Script(alpha_4='Phnx', name='Phoenician', numeric='115')\n",
      "Script(alpha_4='Piqd', name='Klingon (KLI pIqaD)', numeric='293')\n",
      "Script(alpha_4='Plrd', name='Miao (Pollard)', numeric='282')\n",
      "Script(alpha_4='Prti', name='Inscriptional Parthian', numeric='130')\n",
      "Script(alpha_4='Qaaa', name='Reserved for private use (start)', numeric='900')\n",
      "Script(alpha_4='Qabx', name='Reserved for private use (end)', numeric='949')\n",
      "Script(alpha_4='Rjng', name='Rejang (Redjang, Kaganga)', numeric='363')\n",
      "Script(alpha_4='Roro', name='Rongorongo', numeric='620')\n",
      "Script(alpha_4='Runr', name='Runic', numeric='211')\n",
      "Script(alpha_4='Samr', name='Samaritan', numeric='123')\n",
      "Script(alpha_4='Sara', name='Sarati', numeric='292')\n",
      "Script(alpha_4='Sarb', name='Old South Arabian', numeric='105')\n",
      "Script(alpha_4='Saur', name='Saurashtra', numeric='344')\n",
      "Script(alpha_4='Sgnw', name='SignWriting', numeric='095')\n",
      "Script(alpha_4='Shaw', name='Shavian (Shaw)', numeric='281')\n",
      "Script(alpha_4='Shrd', name='Sharada, Śāradā', numeric='319')\n",
      "Script(alpha_4='Sidd', name='Siddham, Siddhaṃ, Siddhamātṛkā', numeric='302')\n",
      "Script(alpha_4='Sind', name='Khudawadi, Sindhi', numeric='318')\n",
      "Script(alpha_4='Sinh', name='Sinhala', numeric='348')\n",
      "Script(alpha_4='Sora', name='Sora Sompeng', numeric='398')\n",
      "Script(alpha_4='Sund', name='Sundanese', numeric='362')\n",
      "Script(alpha_4='Sylo', name='Syloti Nagri', numeric='316')\n",
      "Script(alpha_4='Syrc', name='Syriac', numeric='135')\n",
      "Script(alpha_4='Syre', name='Syriac (Estrangelo variant)', numeric='138')\n",
      "Script(alpha_4='Syrj', name='Syriac (Western variant)', numeric='137')\n",
      "Script(alpha_4='Syrn', name='Syriac (Eastern variant)', numeric='136')\n",
      "Script(alpha_4='Tagb', name='Tagbanwa', numeric='373')\n",
      "Script(alpha_4='Takr', name='Takri, Ṭākrī, Ṭāṅkrī', numeric='321')\n",
      "Script(alpha_4='Tale', name='Tai Le', numeric='353')\n",
      "Script(alpha_4='Talu', name='New Tai Lue', numeric='354')\n",
      "Script(alpha_4='Taml', name='Tamil', numeric='346')\n",
      "Script(alpha_4='Tang', name='Tangut', numeric='520')\n",
      "Script(alpha_4='Tavt', name='Tai Viet', numeric='359')\n",
      "Script(alpha_4='Telu', name='Telugu', numeric='340')\n",
      "Script(alpha_4='Teng', name='Tengwar', numeric='290')\n",
      "Script(alpha_4='Tfng', name='Tifinagh (Berber)', numeric='120')\n",
      "Script(alpha_4='Tglg', name='Tagalog (Baybayin, Alibata)', numeric='370')\n",
      "Script(alpha_4='Thaa', name='Thaana', numeric='170')\n",
      "Script(alpha_4='Thai', name='Thai', numeric='352')\n",
      "Script(alpha_4='Tibt', name='Tibetan', numeric='330')\n",
      "Script(alpha_4='Tirh', name='Tirhuta', numeric='326')\n",
      "Script(alpha_4='Ugar', name='Ugaritic', numeric='040')\n",
      "Script(alpha_4='Vaii', name='Vai', numeric='470')\n",
      "Script(alpha_4='Visp', name='Visible Speech', numeric='280')\n",
      "Script(alpha_4='Wara', name='Warang Citi (Varang Kshiti)', numeric='262')\n",
      "Script(alpha_4='Wole', name='Woleai', numeric='480')\n",
      "Script(alpha_4='Xpeo', name='Old Persian', numeric='030')\n",
      "Script(alpha_4='Xsux', name='Cuneiform, Sumero-Akkadian', numeric='020')\n",
      "Script(alpha_4='Yiii', name='Yi', numeric='460')\n",
      "Script(alpha_4='Zinh', name='Code for inherited script', numeric='994')\n",
      "Script(alpha_4='Zmth', name='Mathematical notation', numeric='995')\n",
      "Script(alpha_4='Zsye', name='Symbols (Emoji variant)', numeric='993')\n",
      "Script(alpha_4='Zsym', name='Symbols', numeric='996')\n",
      "Script(alpha_4='Zxxx', name='Code for unwritten documents', numeric='997')\n",
      "Script(alpha_4='Zyyy', name='Code for undetermined script', numeric='998')\n",
      "Script(alpha_4='Zzzz', name='Code for uncoded script', numeric='999')\n"
     ]
    }
   ],
   "source": [
    "for scripts in pycountry.scripts:\n",
    "    print(scripts)"
   ]
  },
  {
   "cell_type": "code",
   "execution_count": 42,
   "metadata": {},
   "outputs": [
    {
     "name": "stdout",
     "output_type": "stream",
     "text": [
      "Script(alpha_4='Latn', name='Latin', numeric='215')\n"
     ]
    }
   ],
   "source": [
    "latin = pycountry.scripts.get(name='Latin')\n",
    "print(latin)"
   ]
  },
  {
   "cell_type": "markdown",
   "metadata": {},
   "source": [
    "#### LANGUAGES (ISO 639)\n",
    "\n",
    "As well as the scripts, we can get the languages from _ISO 639_ database. In a similar way as in the Scripts case, we will check how many languagues, and will iterate over the database, in order to save space in the Notebook, I will not print the result of the up to 7000 lnguages."
   ]
  },
  {
   "cell_type": "code",
   "execution_count": 43,
   "metadata": {},
   "outputs": [
    {
     "data": {
      "text/plain": [
       "7847"
      ]
     },
     "execution_count": 43,
     "metadata": {},
     "output_type": "execute_result"
    }
   ],
   "source": [
    "len(pycountry.languages)"
   ]
  },
  {
   "cell_type": "markdown",
   "metadata": {},
   "source": [
    "We could look for Spanish language by setting the **alpha_2** parameter as _es_, as well as English looking for the **alpha_2** _en_"
   ]
  },
  {
   "cell_type": "code",
   "execution_count": 44,
   "metadata": {},
   "outputs": [
    {
     "name": "stdout",
     "output_type": "stream",
     "text": [
      "Language(alpha_2='es', alpha_3='spa', name='Spanish', scope='I', type='L')\n"
     ]
    }
   ],
   "source": [
    "spanish = pycountry.languages.get(alpha_2='es')\n",
    "print(spanish)"
   ]
  },
  {
   "cell_type": "code",
   "execution_count": 45,
   "metadata": {},
   "outputs": [
    {
     "name": "stdout",
     "output_type": "stream",
     "text": [
      "Language(alpha_2='en', alpha_3='eng', name='English', scope='I', type='L')\n"
     ]
    }
   ],
   "source": [
    "english = pycountry.languages.get(alpha_2='en')\n",
    "print(english)"
   ]
  },
  {
   "cell_type": "markdown",
   "metadata": {},
   "source": [
    "### Scraping list of countries\n",
    "\n",
    "Now we will use the package called _pycountry_convert_ in order to get the continent names for every country in a list of countries that we will extract from wikipedia.\n",
    "\n",
    "First we will import the _requests_ package that will connect to the wikipedia URL, then we will use the _BeautifulSoup_ package to manipulate that data."
   ]
  },
  {
   "cell_type": "code",
   "execution_count": 46,
   "metadata": {},
   "outputs": [],
   "source": [
    "import requests\n",
    "website_url = requests.get('https://en.wikipedia.org/wiki/List_of_countries_by_GDP_(nominal)').text"
   ]
  },
  {
   "cell_type": "code",
   "execution_count": 47,
   "metadata": {},
   "outputs": [],
   "source": [
    "from bs4 import BeautifulSoup\n",
    "soup = BeautifulSoup(website_url,'lxml')"
   ]
  },
  {
   "cell_type": "code",
   "execution_count": 48,
   "metadata": {},
   "outputs": [],
   "source": [
    "My_table = soup.find('table',{'class':'wikitable sortable'})"
   ]
  },
  {
   "cell_type": "code",
   "execution_count": 49,
   "metadata": {},
   "outputs": [
    {
     "data": {
      "text/plain": [
       "[<a href=\"/wiki/Gross_world_product\" title=\"Gross world product\">World</a>,\n",
       " <a href=\"#cite_note-IMF_Groups-20\">[19]</a>,\n",
       " <a href=\"/wiki/United_States\" title=\"United States\">United States</a>,\n",
       " <a href=\"/wiki/European_Union\" title=\"European Union\">European Union</a>,\n",
       " <a href=\"#cite_note-24\">[23]</a>,\n",
       " <a href=\"#cite_note-EU_note-26\">[n 1]</a>,\n",
       " <a href=\"/wiki/China\" title=\"China\">China</a>,\n",
       " <a href=\"#cite_note-China-THM-27\">[n 2]</a>,\n",
       " <a href=\"/wiki/Japan\" title=\"Japan\">Japan</a>,\n",
       " <a href=\"/wiki/Germany\" title=\"Germany\">Germany</a>,\n",
       " <a href=\"/wiki/India\" title=\"India\">India</a>,\n",
       " <a href=\"/wiki/United_Kingdom\" title=\"United Kingdom\">United Kingdom</a>,\n",
       " <a href=\"/wiki/France\" title=\"France\">France</a>,\n",
       " <a href=\"/wiki/Italy\" title=\"Italy\">Italy</a>,\n",
       " <a href=\"/wiki/Brazil\" title=\"Brazil\">Brazil</a>,\n",
       " <a href=\"/wiki/Canada\" title=\"Canada\">Canada</a>,\n",
       " <a href=\"/wiki/Russia\" title=\"Russia\">Russia</a>,\n",
       " <a href=\"#cite_note-Russia-28\">[n 3]</a>,\n",
       " <a href=\"/wiki/South_Korea\" title=\"South Korea\">Korea, South</a>,\n",
       " <a href=\"/wiki/Spain\" title=\"Spain\">Spain</a>,\n",
       " <a href=\"/wiki/Australia\" title=\"Australia\">Australia</a>,\n",
       " <a href=\"/wiki/Mexico\" title=\"Mexico\">Mexico</a>,\n",
       " <a href=\"/wiki/Indonesia\" title=\"Indonesia\">Indonesia</a>,\n",
       " <a href=\"/wiki/Netherlands\" title=\"Netherlands\">Netherlands</a>,\n",
       " <a href=\"/wiki/Saudi_Arabia\" title=\"Saudi Arabia\">Saudi Arabia</a>,\n",
       " <a href=\"/wiki/Turkey\" title=\"Turkey\">Turkey</a>,\n",
       " <a href=\"/wiki/Switzerland\" title=\"Switzerland\">Switzerland</a>,\n",
       " <a href=\"/wiki/Taiwan\" title=\"Taiwan\">Taiwan</a>,\n",
       " <a href=\"/wiki/Poland\" title=\"Poland\">Poland</a>,\n",
       " <a href=\"/wiki/Thailand\" title=\"Thailand\">Thailand</a>,\n",
       " <a href=\"/wiki/Sweden\" title=\"Sweden\">Sweden</a>,\n",
       " <a href=\"/wiki/Belgium\" title=\"Belgium\">Belgium</a>,\n",
       " <a href=\"/wiki/Iran\" title=\"Iran\">Iran</a>,\n",
       " <a href=\"/wiki/Austria\" title=\"Austria\">Austria</a>,\n",
       " <a href=\"/wiki/Nigeria\" title=\"Nigeria\">Nigeria</a>,\n",
       " <a href=\"/wiki/Argentina\" title=\"Argentina\">Argentina</a>,\n",
       " <a href=\"/wiki/Norway\" title=\"Norway\">Norway</a>,\n",
       " <a href=\"/wiki/United_Arab_Emirates\" title=\"United Arab Emirates\">United Arab Emirates</a>,\n",
       " <a href=\"/wiki/Israel\" title=\"Israel\">Israel</a>,\n",
       " <a href=\"/wiki/Republic_of_Ireland\" title=\"Republic of Ireland\">Ireland</a>,\n",
       " <a href=\"/wiki/Hong_Kong\" title=\"Hong Kong\">Hong Kong</a>,\n",
       " <a href=\"/wiki/Malaysia\" title=\"Malaysia\">Malaysia</a>,\n",
       " <a href=\"/wiki/Singapore\" title=\"Singapore\">Singapore</a>,\n",
       " <a href=\"/wiki/South_Africa\" title=\"South Africa\">South Africa</a>,\n",
       " <a href=\"/wiki/Philippines\" title=\"Philippines\">Philippines</a>,\n",
       " <a href=\"/wiki/Denmark\" title=\"Denmark\">Denmark</a>,\n",
       " <a href=\"/wiki/Colombia\" title=\"Colombia\">Colombia</a>,\n",
       " <a href=\"/wiki/Bangladesh\" title=\"Bangladesh\">Bangladesh</a>,\n",
       " <a href=\"/wiki/Egypt\" title=\"Egypt\">Egypt</a>,\n",
       " <a href=\"/wiki/Chile\" title=\"Chile\">Chile</a>,\n",
       " <a href=\"/wiki/Pakistan\" title=\"Pakistan\">Pakistan</a>,\n",
       " <a href=\"/wiki/Finland\" title=\"Finland\">Finland</a>,\n",
       " <a href=\"/wiki/Vietnam\" title=\"Vietnam\">Vietnam</a>,\n",
       " <a href=\"/wiki/Czech_Republic\" title=\"Czech Republic\">Czech Republic</a>,\n",
       " <a href=\"/wiki/Romania\" title=\"Romania\">Romania</a>,\n",
       " <a href=\"/wiki/Portugal\" title=\"Portugal\">Portugal</a>,\n",
       " <a href=\"/wiki/Peru\" title=\"Peru\">Peru</a>,\n",
       " <a href=\"/wiki/Iraq\" title=\"Iraq\">Iraq</a>,\n",
       " <a href=\"/wiki/Greece\" title=\"Greece\">Greece</a>,\n",
       " <a href=\"/wiki/New_Zealand\" title=\"New Zealand\">New Zealand</a>,\n",
       " <a href=\"/wiki/Qatar\" title=\"Qatar\">Qatar</a>,\n",
       " <a href=\"/wiki/Algeria\" title=\"Algeria\">Algeria</a>,\n",
       " <a href=\"/wiki/Hungary\" title=\"Hungary\">Hungary</a>,\n",
       " <a href=\"/wiki/Kazakhstan\" title=\"Kazakhstan\">Kazakhstan</a>,\n",
       " <a href=\"/wiki/Ukraine\" title=\"Ukraine\">Ukraine</a>,\n",
       " <a href=\"/wiki/Kuwait\" title=\"Kuwait\">Kuwait</a>,\n",
       " <a href=\"/wiki/Morocco\" title=\"Morocco\">Morocco</a>,\n",
       " <a href=\"/wiki/Ecuador\" title=\"Ecuador\">Ecuador</a>,\n",
       " <a href=\"/wiki/Slovakia\" title=\"Slovakia\">Slovakia</a>,\n",
       " <a href=\"/wiki/Puerto_Rico\" title=\"Puerto Rico\">Puerto Rico</a>,\n",
       " <a href=\"/wiki/Kenya\" title=\"Kenya\">Kenya</a>,\n",
       " <a href=\"/wiki/Angola\" title=\"Angola\">Angola</a>,\n",
       " <a href=\"/wiki/Ethiopia\" title=\"Ethiopia\">Ethiopia</a>,\n",
       " <a href=\"/wiki/Dominican_Republic\" title=\"Dominican Republic\">Dominican Republic</a>,\n",
       " <a href=\"/wiki/Sri_Lanka\" title=\"Sri Lanka\">Sri Lanka</a>,\n",
       " <a href=\"/wiki/Guatemala\" title=\"Guatemala\">Guatemala</a>,\n",
       " <a href=\"/wiki/Oman\" title=\"Oman\">Oman</a>,\n",
       " <a href=\"/wiki/Venezuela\" title=\"Venezuela\">Venezuela</a>,\n",
       " <a href=\"/wiki/Luxembourg\" title=\"Luxembourg\">Luxembourg</a>,\n",
       " <a href=\"/wiki/Panama\" title=\"Panama\">Panama</a>,\n",
       " <a href=\"/wiki/Ghana\" title=\"Ghana\">Ghana</a>,\n",
       " <a href=\"/wiki/Bulgaria\" title=\"Bulgaria\">Bulgaria</a>,\n",
       " <a href=\"/wiki/Myanmar\" title=\"Myanmar\">Myanmar</a>,\n",
       " <a href=\"/wiki/Tanzania\" title=\"Tanzania\">Tanzania</a>,\n",
       " <a href=\"/wiki/Belarus\" title=\"Belarus\">Belarus</a>,\n",
       " <a href=\"/wiki/Costa_Rica\" title=\"Costa Rica\">Costa Rica</a>,\n",
       " <a href=\"/wiki/Croatia\" title=\"Croatia\">Croatia</a>,\n",
       " <a href=\"/wiki/Uzbekistan\" title=\"Uzbekistan\">Uzbekistan</a>,\n",
       " <a href=\"/wiki/Syria\" title=\"Syria\">Syria</a>,\n",
       " <a href=\"#cite_note-29\">[n 4]</a>,\n",
       " <a href=\"/wiki/Uruguay\" title=\"Uruguay\">Uruguay</a>,\n",
       " <a href=\"/wiki/Lebanon\" title=\"Lebanon\">Lebanon</a>,\n",
       " <a href=\"/wiki/Macau\" title=\"Macau\">Macau</a>,\n",
       " <a href=\"/wiki/Slovenia\" title=\"Slovenia\">Slovenia</a>,\n",
       " <a href=\"/wiki/Lithuania\" title=\"Lithuania\">Lithuania</a>,\n",
       " <a href=\"/wiki/Serbia\" title=\"Serbia\">Serbia</a>,\n",
       " <a href=\"/wiki/Democratic_Republic_of_the_Congo\" title=\"Democratic Republic of the Congo\">Congo, Democratic Republic of the</a>,\n",
       " <a href=\"/wiki/Azerbaijan\" title=\"Azerbaijan\">Azerbaijan</a>,\n",
       " <a href=\"/wiki/Turkmenistan\" title=\"Turkmenistan\">Turkmenistan</a>,\n",
       " <a href=\"/wiki/Ivory_Coast\" title=\"Ivory Coast\">Côte d'Ivoire</a>,\n",
       " <a href=\"/wiki/Jordan\" title=\"Jordan\">Jordan</a>,\n",
       " <a href=\"/wiki/Bolivia\" title=\"Bolivia\">Bolivia</a>,\n",
       " <a href=\"/wiki/Paraguay\" title=\"Paraguay\">Paraguay</a>,\n",
       " <a href=\"/wiki/Tunisia\" title=\"Tunisia\">Tunisia</a>,\n",
       " <a href=\"/wiki/Cameroon\" title=\"Cameroon\">Cameroon</a>,\n",
       " <a href=\"/wiki/Bahrain\" title=\"Bahrain\">Bahrain</a>,\n",
       " <a href=\"/wiki/Latvia\" title=\"Latvia\">Latvia</a>,\n",
       " <a href=\"/wiki/Libya\" title=\"Libya\">Libya</a>,\n",
       " <a href=\"/wiki/Estonia\" title=\"Estonia\">Estonia</a>,\n",
       " <a href=\"/wiki/Sudan\" title=\"Sudan\">Sudan</a>,\n",
       " <a href=\"/wiki/Uganda\" title=\"Uganda\">Uganda</a>,\n",
       " <a href=\"/wiki/Yemen\" title=\"Yemen\">Yemen</a>,\n",
       " <a href=\"/wiki/Nepal\" title=\"Nepal\">Nepal</a>,\n",
       " <a href=\"/wiki/El_Salvador\" title=\"El Salvador\">El Salvador</a>,\n",
       " <a href=\"/wiki/Cambodia\" title=\"Cambodia\">Cambodia</a>,\n",
       " <a href=\"/wiki/Honduras\" title=\"Honduras\">Honduras</a>,\n",
       " <a href=\"/wiki/Cyprus\" title=\"Cyprus\">Cyprus</a>,\n",
       " <a href=\"/wiki/Zambia\" title=\"Zambia\">Zambia</a>,\n",
       " <a href=\"/wiki/Senegal\" title=\"Senegal\">Senegal</a>,\n",
       " <a href=\"/wiki/Iceland\" title=\"Iceland\">Iceland</a>,\n",
       " <a href=\"/wiki/Papua_New_Guinea\" title=\"Papua New Guinea\">Papua New Guinea</a>,\n",
       " <a href=\"/wiki/Trinidad_and_Tobago\" title=\"Trinidad and Tobago\">Trinidad and Tobago</a>,\n",
       " <a href=\"/wiki/Bosnia_and_Herzegovina\" title=\"Bosnia and Herzegovina\">Bosnia and Herzegovina</a>,\n",
       " <a href=\"/wiki/Laos\" title=\"Laos\">Laos</a>,\n",
       " <a href=\"/wiki/Afghanistan\" title=\"Afghanistan\">Afghanistan</a>,\n",
       " <a href=\"/wiki/Botswana\" title=\"Botswana\">Botswana</a>,\n",
       " <a href=\"/wiki/Mali\" title=\"Mali\">Mali</a>,\n",
       " <a href=\"/wiki/Gabon\" title=\"Gabon\">Gabon</a>,\n",
       " <a href=\"/wiki/Georgia_(country)\" title=\"Georgia (country)\">Georgia</a>,\n",
       " <a href=\"/wiki/Jamaica\" title=\"Jamaica\">Jamaica</a>,\n",
       " <a href=\"/wiki/Albania\" title=\"Albania\">Albania</a>,\n",
       " <a href=\"/wiki/Mozambique\" title=\"Mozambique\">Mozambique</a>,\n",
       " <a href=\"/wiki/Malta\" title=\"Malta\">Malta</a>,\n",
       " <a href=\"/wiki/Burkina_Faso\" title=\"Burkina Faso\">Burkina Faso</a>,\n",
       " <a href=\"/wiki/Mauritius\" title=\"Mauritius\">Mauritius</a>,\n",
       " <a href=\"/wiki/Benin\" title=\"Benin\">Benin</a>,\n",
       " <a href=\"/wiki/Namibia\" title=\"Namibia\">Namibia</a>,\n",
       " <a href=\"/wiki/Mongolia\" title=\"Mongolia\">Mongolia</a>,\n",
       " <a href=\"/wiki/Armenia\" title=\"Armenia\">Armenia</a>,\n",
       " <a href=\"/wiki/Guinea\" title=\"Guinea\">Guinea</a>,\n",
       " <a href=\"/wiki/Zimbabwe\" title=\"Zimbabwe\">Zimbabwe</a>,\n",
       " <a href=\"/wiki/North_Macedonia\" title=\"North Macedonia\">North Macedonia</a>,\n",
       " <a href=\"/wiki/The_Bahamas\" title=\"The Bahamas\">Bahamas, The</a>,\n",
       " <a href=\"/wiki/Madagascar\" title=\"Madagascar\">Madagascar</a>,\n",
       " <a href=\"/wiki/Nicaragua\" title=\"Nicaragua\">Nicaragua</a>,\n",
       " <a href=\"/wiki/Brunei\" title=\"Brunei\">Brunei</a>,\n",
       " <a href=\"/wiki/Equatorial_Guinea\" title=\"Equatorial Guinea\">Equatorial Guinea</a>,\n",
       " <a href=\"/wiki/Moldova\" title=\"Moldova\">Moldova</a>,\n",
       " <a href=\"/wiki/Republic_of_the_Congo\" title=\"Republic of the Congo\">Congo, Republic of the</a>,\n",
       " <a href=\"/wiki/Chad\" title=\"Chad\">Chad</a>,\n",
       " <a href=\"/wiki/Rwanda\" title=\"Rwanda\">Rwanda</a>,\n",
       " <a href=\"/wiki/Niger\" title=\"Niger\">Niger</a>,\n",
       " <a href=\"/wiki/Haiti\" title=\"Haiti\">Haiti</a>,\n",
       " <a href=\"/wiki/Kyrgyzstan\" title=\"Kyrgyzstan\">Kyrgyzstan</a>,\n",
       " <a href=\"/wiki/Tajikistan\" title=\"Tajikistan\">Tajikistan</a>,\n",
       " <a href=\"/wiki/Kosovo\" title=\"Kosovo\">Kosovo</a>,\n",
       " <a href=\"/wiki/Malawi\" title=\"Malawi\">Malawi</a>,\n",
       " <a href=\"/wiki/Maldives\" title=\"Maldives\">Maldives</a>,\n",
       " <a href=\"/wiki/Togo\" title=\"Togo\">Togo</a>,\n",
       " <a href=\"/wiki/Mauritania\" title=\"Mauritania\">Mauritania</a>,\n",
       " <a href=\"/wiki/Montenegro\" title=\"Montenegro\">Montenegro</a>,\n",
       " <a href=\"/wiki/Fiji\" title=\"Fiji\">Fiji</a>,\n",
       " <a href=\"/wiki/Barbados\" title=\"Barbados\">Barbados</a>,\n",
       " <a href=\"/wiki/Somalia\" title=\"Somalia\">Somalia</a>,\n",
       " <a href=\"/wiki/Eswatini\" title=\"Eswatini\">Eswatini</a>,\n",
       " <a href=\"/wiki/Sierra_Leone\" title=\"Sierra Leone\">Sierra Leone</a>,\n",
       " <a href=\"/wiki/Guyana\" title=\"Guyana\">Guyana</a>,\n",
       " <a href=\"/wiki/Suriname\" title=\"Suriname\">Suriname</a>,\n",
       " <a href=\"/wiki/South_Sudan\" title=\"South Sudan\">South Sudan</a>,\n",
       " <a href=\"/wiki/Burundi\" title=\"Burundi\">Burundi</a>,\n",
       " <a href=\"/wiki/Liberia\" title=\"Liberia\">Liberia</a>,\n",
       " <a href=\"/wiki/Djibouti\" title=\"Djibouti\">Djibouti</a>,\n",
       " <a href=\"/wiki/East_Timor\" title=\"East Timor\">Timor-Leste</a>,\n",
       " <a href=\"/wiki/Aruba\" title=\"Aruba\">Aruba</a>,\n",
       " <a href=\"/wiki/Bhutan\" title=\"Bhutan\">Bhutan</a>,\n",
       " <a href=\"/wiki/Lesotho\" title=\"Lesotho\">Lesotho</a>,\n",
       " <a href=\"/wiki/Central_African_Republic\" title=\"Central African Republic\">Central African Republic</a>,\n",
       " <a href=\"/wiki/Eritrea\" title=\"Eritrea\">Eritrea</a>,\n",
       " <a href=\"/wiki/Belize\" title=\"Belize\">Belize</a>,\n",
       " <a href=\"/wiki/Saint_Lucia\" title=\"Saint Lucia\">St. Lucia</a>,\n",
       " <a href=\"/wiki/The_Gambia\" title=\"The Gambia\">Gambia</a>,\n",
       " <a href=\"/wiki/Antigua_and_Barbuda\" title=\"Antigua and Barbuda\">Antigua and Barbuda</a>,\n",
       " <a href=\"/wiki/Seychelles\" title=\"Seychelles\">Seychelles</a>,\n",
       " <a href=\"/wiki/San_Marino\" title=\"San Marino\">San Marino</a>,\n",
       " <a href=\"/wiki/Solomon_Islands\" title=\"Solomon Islands\">Solomon Islands</a>,\n",
       " <a href=\"/wiki/Grenada\" title=\"Grenada\">Grenada</a>,\n",
       " <a href=\"/wiki/Comoros\" title=\"Comoros\">Comoros</a>,\n",
       " <a href=\"/wiki/Saint_Kitts_and_Nevis\" title=\"Saint Kitts and Nevis\">St. Kitts and Nevis</a>,\n",
       " <a href=\"/wiki/Vanuatu\" title=\"Vanuatu\">Vanuatu</a>,\n",
       " <a href=\"/wiki/Samoa\" title=\"Samoa\">Samoa</a>,\n",
       " <a href=\"/wiki/Saint_Vincent_and_the_Grenadines\" title=\"Saint Vincent and the Grenadines\">St. Vincent and the Grenadines</a>,\n",
       " <a href=\"/wiki/Dominica\" title=\"Dominica\">Dominica</a>,\n",
       " <a href=\"/wiki/Tonga\" title=\"Tonga\">Tonga</a>,\n",
       " <a href=\"/wiki/S%C3%A3o_Tom%C3%A9_and_Pr%C3%ADncipe\" title=\"São Tomé and Príncipe\">São Tomé and Príncipe</a>,\n",
       " <a href=\"/wiki/Federated_States_of_Micronesia\" title=\"Federated States of Micronesia\">Micronesia, Federated States of</a>,\n",
       " <a href=\"/wiki/Palau\" title=\"Palau\">Palau</a>,\n",
       " <a href=\"/wiki/Marshall_Islands\" title=\"Marshall Islands\">Marshall Islands</a>,\n",
       " <a href=\"/wiki/Kiribati\" title=\"Kiribati\">Kiribati</a>,\n",
       " <a href=\"/wiki/Tuvalu\" title=\"Tuvalu\">Tuvalu</a>]"
      ]
     },
     "execution_count": 49,
     "metadata": {},
     "output_type": "execute_result"
    }
   ],
   "source": [
    "links = My_table.findAll('a')\n",
    "links"
   ]
  },
  {
   "cell_type": "markdown",
   "metadata": {},
   "source": [
    "We will store the result of the request operation in the list _Countries_ and then will iterate each title on that list."
   ]
  },
  {
   "cell_type": "code",
   "execution_count": 50,
   "metadata": {},
   "outputs": [
    {
     "name": "stdout",
     "output_type": "stream",
     "text": [
      "['Gross world product', None, 'United States', 'European Union', None, None, 'China', None, 'Japan', 'Germany', 'India', 'United Kingdom', 'France', 'Italy', 'Brazil', 'Canada', 'Russia', None, 'South Korea', 'Spain', 'Australia', 'Mexico', 'Indonesia', 'Netherlands', 'Saudi Arabia', 'Turkey', 'Switzerland', 'Taiwan', 'Poland', 'Thailand', 'Sweden', 'Belgium', 'Iran', 'Austria', 'Nigeria', 'Argentina', 'Norway', 'United Arab Emirates', 'Israel', 'Republic of Ireland', 'Hong Kong', 'Malaysia', 'Singapore', 'South Africa', 'Philippines', 'Denmark', 'Colombia', 'Bangladesh', 'Egypt', 'Chile', 'Pakistan', 'Finland', 'Vietnam', 'Czech Republic', 'Romania', 'Portugal', 'Peru', 'Iraq', 'Greece', 'New Zealand', 'Qatar', 'Algeria', 'Hungary', 'Kazakhstan', 'Ukraine', 'Kuwait', 'Morocco', 'Ecuador', 'Slovakia', 'Puerto Rico', 'Kenya', 'Angola', 'Ethiopia', 'Dominican Republic', 'Sri Lanka', 'Guatemala', 'Oman', 'Venezuela', 'Luxembourg', 'Panama', 'Ghana', 'Bulgaria', 'Myanmar', 'Tanzania', 'Belarus', 'Costa Rica', 'Croatia', 'Uzbekistan', 'Syria', None, 'Uruguay', 'Lebanon', 'Macau', 'Slovenia', 'Lithuania', 'Serbia', 'Democratic Republic of the Congo', 'Azerbaijan', 'Turkmenistan', 'Ivory Coast', 'Jordan', 'Bolivia', 'Paraguay', 'Tunisia', 'Cameroon', 'Bahrain', 'Latvia', 'Libya', 'Estonia', 'Sudan', 'Uganda', 'Yemen', 'Nepal', 'El Salvador', 'Cambodia', 'Honduras', 'Cyprus', 'Zambia', 'Senegal', 'Iceland', 'Papua New Guinea', 'Trinidad and Tobago', 'Bosnia and Herzegovina', 'Laos', 'Afghanistan', 'Botswana', 'Mali', 'Gabon', 'Georgia (country)', 'Jamaica', 'Albania', 'Mozambique', 'Malta', 'Burkina Faso', 'Mauritius', 'Benin', 'Namibia', 'Mongolia', 'Armenia', 'Guinea', 'Zimbabwe', 'North Macedonia', 'The Bahamas', 'Madagascar', 'Nicaragua', 'Brunei', 'Equatorial Guinea', 'Moldova', 'Republic of the Congo', 'Chad', 'Rwanda', 'Niger', 'Haiti', 'Kyrgyzstan', 'Tajikistan', 'Kosovo', 'Malawi', 'Maldives', 'Togo', 'Mauritania', 'Montenegro', 'Fiji', 'Barbados', 'Somalia', 'Eswatini', 'Sierra Leone', 'Guyana', 'Suriname', 'South Sudan', 'Burundi', 'Liberia', 'Djibouti', 'East Timor', 'Aruba', 'Bhutan', 'Lesotho', 'Central African Republic', 'Eritrea', 'Belize', 'Saint Lucia', 'The Gambia', 'Antigua and Barbuda', 'Seychelles', 'San Marino', 'Solomon Islands', 'Grenada', 'Comoros', 'Saint Kitts and Nevis', 'Vanuatu', 'Samoa', 'Saint Vincent and the Grenadines', 'Dominica', 'Tonga', 'São Tomé and Príncipe', 'Federated States of Micronesia', 'Palau', 'Marshall Islands', 'Kiribati', 'Tuvalu']\n"
     ]
    }
   ],
   "source": [
    "Countries = []\n",
    "for link in links:\n",
    "    Countries.append(link.get('title'))\n",
    "print(Countries)"
   ]
  },
  {
   "cell_type": "markdown",
   "metadata": {},
   "source": [
    "Then we will convert our list of countries in a DataFrame. Once it is a DataFrame, taking a look on that list we note that there are names that shouldn't be there like _Gross world product_ and _European Union_ so we will remove them from that list and the _None_ as well."
   ]
  },
  {
   "cell_type": "code",
   "execution_count": 51,
   "metadata": {},
   "outputs": [
    {
     "data": {
      "text/html": [
       "<div>\n",
       "<style scoped>\n",
       "    .dataframe tbody tr th:only-of-type {\n",
       "        vertical-align: middle;\n",
       "    }\n",
       "\n",
       "    .dataframe tbody tr th {\n",
       "        vertical-align: top;\n",
       "    }\n",
       "\n",
       "    .dataframe thead th {\n",
       "        text-align: right;\n",
       "    }\n",
       "</style>\n",
       "<table border=\"1\" class=\"dataframe\">\n",
       "  <thead>\n",
       "    <tr style=\"text-align: right;\">\n",
       "      <th></th>\n",
       "      <th>Country</th>\n",
       "    </tr>\n",
       "  </thead>\n",
       "  <tbody>\n",
       "    <tr>\n",
       "      <th>0</th>\n",
       "      <td>Gross world product</td>\n",
       "    </tr>\n",
       "    <tr>\n",
       "      <th>1</th>\n",
       "      <td>None</td>\n",
       "    </tr>\n",
       "    <tr>\n",
       "      <th>2</th>\n",
       "      <td>United States</td>\n",
       "    </tr>\n",
       "    <tr>\n",
       "      <th>3</th>\n",
       "      <td>European Union</td>\n",
       "    </tr>\n",
       "    <tr>\n",
       "      <th>4</th>\n",
       "      <td>None</td>\n",
       "    </tr>\n",
       "    <tr>\n",
       "      <th>...</th>\n",
       "      <td>...</td>\n",
       "    </tr>\n",
       "    <tr>\n",
       "      <th>194</th>\n",
       "      <td>Federated States of Micronesia</td>\n",
       "    </tr>\n",
       "    <tr>\n",
       "      <th>195</th>\n",
       "      <td>Palau</td>\n",
       "    </tr>\n",
       "    <tr>\n",
       "      <th>196</th>\n",
       "      <td>Marshall Islands</td>\n",
       "    </tr>\n",
       "    <tr>\n",
       "      <th>197</th>\n",
       "      <td>Kiribati</td>\n",
       "    </tr>\n",
       "    <tr>\n",
       "      <th>198</th>\n",
       "      <td>Tuvalu</td>\n",
       "    </tr>\n",
       "  </tbody>\n",
       "</table>\n",
       "<p>199 rows × 1 columns</p>\n",
       "</div>"
      ],
      "text/plain": [
       "                            Country\n",
       "0               Gross world product\n",
       "1                              None\n",
       "2                     United States\n",
       "3                    European Union\n",
       "4                              None\n",
       "..                              ...\n",
       "194  Federated States of Micronesia\n",
       "195                           Palau\n",
       "196                Marshall Islands\n",
       "197                        Kiribati\n",
       "198                          Tuvalu\n",
       "\n",
       "[199 rows x 1 columns]"
      ]
     },
     "execution_count": 51,
     "metadata": {},
     "output_type": "execute_result"
    }
   ],
   "source": [
    "import pandas as pd\n",
    "df = pd.DataFrame()\n",
    "df['Country'] = Countries\n",
    "df"
   ]
  },
  {
   "cell_type": "code",
   "execution_count": 52,
   "metadata": {},
   "outputs": [
    {
     "data": {
      "text/html": [
       "<div>\n",
       "<style scoped>\n",
       "    .dataframe tbody tr th:only-of-type {\n",
       "        vertical-align: middle;\n",
       "    }\n",
       "\n",
       "    .dataframe tbody tr th {\n",
       "        vertical-align: top;\n",
       "    }\n",
       "\n",
       "    .dataframe thead th {\n",
       "        text-align: right;\n",
       "    }\n",
       "</style>\n",
       "<table border=\"1\" class=\"dataframe\">\n",
       "  <thead>\n",
       "    <tr style=\"text-align: right;\">\n",
       "      <th></th>\n",
       "      <th>Country</th>\n",
       "    </tr>\n",
       "  </thead>\n",
       "  <tbody>\n",
       "    <tr>\n",
       "      <th>1</th>\n",
       "      <td>None</td>\n",
       "    </tr>\n",
       "    <tr>\n",
       "      <th>2</th>\n",
       "      <td>United States</td>\n",
       "    </tr>\n",
       "    <tr>\n",
       "      <th>4</th>\n",
       "      <td>None</td>\n",
       "    </tr>\n",
       "    <tr>\n",
       "      <th>5</th>\n",
       "      <td>None</td>\n",
       "    </tr>\n",
       "    <tr>\n",
       "      <th>6</th>\n",
       "      <td>China</td>\n",
       "    </tr>\n",
       "    <tr>\n",
       "      <th>...</th>\n",
       "      <td>...</td>\n",
       "    </tr>\n",
       "    <tr>\n",
       "      <th>194</th>\n",
       "      <td>Federated States of Micronesia</td>\n",
       "    </tr>\n",
       "    <tr>\n",
       "      <th>195</th>\n",
       "      <td>Palau</td>\n",
       "    </tr>\n",
       "    <tr>\n",
       "      <th>196</th>\n",
       "      <td>Marshall Islands</td>\n",
       "    </tr>\n",
       "    <tr>\n",
       "      <th>197</th>\n",
       "      <td>Kiribati</td>\n",
       "    </tr>\n",
       "    <tr>\n",
       "      <th>198</th>\n",
       "      <td>Tuvalu</td>\n",
       "    </tr>\n",
       "  </tbody>\n",
       "</table>\n",
       "<p>197 rows × 1 columns</p>\n",
       "</div>"
      ],
      "text/plain": [
       "                            Country\n",
       "1                              None\n",
       "2                     United States\n",
       "4                              None\n",
       "5                              None\n",
       "6                             China\n",
       "..                              ...\n",
       "194  Federated States of Micronesia\n",
       "195                           Palau\n",
       "196                Marshall Islands\n",
       "197                        Kiribati\n",
       "198                          Tuvalu\n",
       "\n",
       "[197 rows x 1 columns]"
      ]
     },
     "execution_count": 52,
     "metadata": {},
     "output_type": "execute_result"
    }
   ],
   "source": [
    "World_Countries = df.loc[(df['Country'] !='Gross world product') & (df['Country'] !='European Union')]\n",
    "World_Countries"
   ]
  },
  {
   "cell_type": "code",
   "execution_count": 53,
   "metadata": {},
   "outputs": [
    {
     "data": {
      "text/plain": [
       "array([None, 'United States', 'China', 'Japan', 'Germany', 'India',\n",
       "       'United Kingdom', 'France', 'Italy', 'Brazil', 'Canada', 'Russia',\n",
       "       'South Korea', 'Spain', 'Australia', 'Mexico', 'Indonesia',\n",
       "       'Netherlands', 'Saudi Arabia', 'Turkey', 'Switzerland', 'Taiwan',\n",
       "       'Poland', 'Thailand', 'Sweden', 'Belgium', 'Iran', 'Austria',\n",
       "       'Nigeria', 'Argentina', 'Norway', 'United Arab Emirates', 'Israel',\n",
       "       'Republic of Ireland', 'Hong Kong', 'Malaysia', 'Singapore',\n",
       "       'South Africa', 'Philippines', 'Denmark', 'Colombia', 'Bangladesh',\n",
       "       'Egypt', 'Chile', 'Pakistan', 'Finland', 'Vietnam',\n",
       "       'Czech Republic', 'Romania', 'Portugal', 'Peru', 'Iraq', 'Greece',\n",
       "       'New Zealand', 'Qatar', 'Algeria', 'Hungary', 'Kazakhstan',\n",
       "       'Ukraine', 'Kuwait', 'Morocco', 'Ecuador', 'Slovakia',\n",
       "       'Puerto Rico', 'Kenya', 'Angola', 'Ethiopia', 'Dominican Republic',\n",
       "       'Sri Lanka', 'Guatemala', 'Oman', 'Venezuela', 'Luxembourg',\n",
       "       'Panama', 'Ghana', 'Bulgaria', 'Myanmar', 'Tanzania', 'Belarus',\n",
       "       'Costa Rica', 'Croatia', 'Uzbekistan', 'Syria', 'Uruguay',\n",
       "       'Lebanon', 'Macau', 'Slovenia', 'Lithuania', 'Serbia',\n",
       "       'Democratic Republic of the Congo', 'Azerbaijan', 'Turkmenistan',\n",
       "       'Ivory Coast', 'Jordan', 'Bolivia', 'Paraguay', 'Tunisia',\n",
       "       'Cameroon', 'Bahrain', 'Latvia', 'Libya', 'Estonia', 'Sudan',\n",
       "       'Uganda', 'Yemen', 'Nepal', 'El Salvador', 'Cambodia', 'Honduras',\n",
       "       'Cyprus', 'Zambia', 'Senegal', 'Iceland', 'Papua New Guinea',\n",
       "       'Trinidad and Tobago', 'Bosnia and Herzegovina', 'Laos',\n",
       "       'Afghanistan', 'Botswana', 'Mali', 'Gabon', 'Georgia (country)',\n",
       "       'Jamaica', 'Albania', 'Mozambique', 'Malta', 'Burkina Faso',\n",
       "       'Mauritius', 'Benin', 'Namibia', 'Mongolia', 'Armenia', 'Guinea',\n",
       "       'Zimbabwe', 'North Macedonia', 'The Bahamas', 'Madagascar',\n",
       "       'Nicaragua', 'Brunei', 'Equatorial Guinea', 'Moldova',\n",
       "       'Republic of the Congo', 'Chad', 'Rwanda', 'Niger', 'Haiti',\n",
       "       'Kyrgyzstan', 'Tajikistan', 'Kosovo', 'Malawi', 'Maldives', 'Togo',\n",
       "       'Mauritania', 'Montenegro', 'Fiji', 'Barbados', 'Somalia',\n",
       "       'Eswatini', 'Sierra Leone', 'Guyana', 'Suriname', 'South Sudan',\n",
       "       'Burundi', 'Liberia', 'Djibouti', 'East Timor', 'Aruba', 'Bhutan',\n",
       "       'Lesotho', 'Central African Republic', 'Eritrea', 'Belize',\n",
       "       'Saint Lucia', 'The Gambia', 'Antigua and Barbuda', 'Seychelles',\n",
       "       'San Marino', 'Solomon Islands', 'Grenada', 'Comoros',\n",
       "       'Saint Kitts and Nevis', 'Vanuatu', 'Samoa',\n",
       "       'Saint Vincent and the Grenadines', 'Dominica', 'Tonga',\n",
       "       'São Tomé and Príncipe', 'Federated States of Micronesia', 'Palau',\n",
       "       'Marshall Islands', 'Kiribati', 'Tuvalu'], dtype=object)"
      ]
     },
     "execution_count": 53,
     "metadata": {},
     "output_type": "execute_result"
    }
   ],
   "source": [
    "World_Countries.Country.unique()"
   ]
  },
  {
   "cell_type": "code",
   "execution_count": 54,
   "metadata": {},
   "outputs": [
    {
     "data": {
      "text/plain": [
       "(197, 1)"
      ]
     },
     "execution_count": 54,
     "metadata": {},
     "output_type": "execute_result"
    }
   ],
   "source": [
    "World_Countries.shape"
   ]
  },
  {
   "cell_type": "markdown",
   "metadata": {},
   "source": [
    "#### Calling pycountry_convert package\n",
    "\n",
    "Now is time to call the [pycountry_convert](https://pypi.org/project/pycountry-convert/) package, and let's demonstrate how to convert country names to country and continent codes."
   ]
  },
  {
   "cell_type": "code",
   "execution_count": 55,
   "metadata": {},
   "outputs": [
    {
     "name": "stdout",
     "output_type": "stream",
     "text": [
      "CN\n",
      "AS\n"
     ]
    }
   ],
   "source": [
    "import pycountry_convert as pc\n",
    "\n",
    "country_code = pc.country_name_to_country_alpha2(\"China\", cn_name_format=\"default\")\n",
    "print(country_code)\n",
    "continent_name = pc.country_alpha2_to_continent_code(country_code)\n",
    "print(continent_name)"
   ]
  },
  {
   "cell_type": "code",
   "execution_count": 56,
   "metadata": {},
   "outputs": [],
   "source": [
    "#Function to to map country names\n",
    "def country_to_continent(country_name):\n",
    "    country_alpha2 = pc.country_name_to_country_alpha2(country_name)\n",
    "    country_continent_code = pc.country_alpha2_to_continent_code(country_alpha2)\n",
    "    country_continent_name = pc.convert_continent_code_to_continent_name(country_continent_code)\n",
    "    return country_continent_name"
   ]
  },
  {
   "cell_type": "code",
   "execution_count": 57,
   "metadata": {},
   "outputs": [
    {
     "name": "stdout",
     "output_type": "stream",
     "text": [
      "Asia\n"
     ]
    }
   ],
   "source": [
    "country_name = 'India'\n",
    "print(country_to_continent(country_name))"
   ]
  },
  {
   "cell_type": "markdown",
   "metadata": {},
   "source": [
    "Now let's create a function to map continent names to **country_alpha2_to_continent_code** and **country_name_to_country_alpha2** elements from pycountry, this will return as well a list of the continents where those countries are located.\n",
    "\n",
    "After that we'll merge both list (countrie and continents) into one, and then convert it to a pandas DataFrame."
   ]
  },
  {
   "cell_type": "code",
   "execution_count": 58,
   "metadata": {},
   "outputs": [],
   "source": [
    "from pycountry_convert import country_alpha2_to_continent_code, country_name_to_country_alpha2\n",
    "\n",
    "continents = {\n",
    "    'NA': 'North America',\n",
    "    'SA': 'South America',\n",
    "    'EU': 'European Union',\n",
    "    'AS': 'Asia',\n",
    "    'OC': 'Australia',\n",
    "    'AF': 'Africa',\n",
    "}\n",
    "\n",
    "countries = ['United States', 'China', 'Japan', 'Germany', 'India',\n",
    "       'United Kingdom', 'France', 'Italy', 'Brazil', 'Canada', 'Russia',\n",
    "       'South Korea', 'Spain', 'Australia', 'Mexico', 'Indonesia',\n",
    "       'Netherlands', 'Saudi Arabia', 'Turkey', 'Switzerland', 'Taiwan',\n",
    "       'Poland', 'Thailand', 'Sweden', 'Belgium', 'Iran', 'Austria',\n",
    "       'Nigeria', 'Argentina', 'Norway', 'United Arab Emirates', 'Israel',\n",
    "       'Ireland', 'Hong Kong', 'Malaysia', 'Singapore',\n",
    "       'South Africa', 'Philippines', 'Denmark', 'Colombia', 'Bangladesh',\n",
    "       'Egypt', 'Chile', 'Pakistan', 'Finland', 'Vietnam',\n",
    "       'Czech Republic', 'Romania', 'Portugal', 'Peru', 'Iraq', 'Greece',\n",
    "       'New Zealand', 'Qatar', 'Algeria', 'Hungary', 'Kazakhstan',\n",
    "       'Ukraine', 'Kuwait', 'Morocco', 'Ecuador', 'Slovakia',\n",
    "       'Puerto Rico', 'Kenya', 'Angola', 'Ethiopia', 'Dominican Republic',\n",
    "       'Sri Lanka', 'Guatemala', 'Oman', 'Venezuela', 'Luxembourg',\n",
    "       'Panama', 'Ghana', 'Bulgaria', 'Myanmar', 'Tanzania', 'Belarus',\n",
    "       'Costa Rica', 'Croatia', 'Uzbekistan', 'Syria', 'Uruguay',\n",
    "       'Lebanon', 'Macau', 'Slovenia', 'Lithuania', 'Serbia',\n",
    "       'Azerbaijan', 'Turkmenistan','Ivory Coast', 'Jordan', 'Bolivia', \n",
    "       'Paraguay', 'Tunisia', 'Cameroon', 'Bahrain', 'Latvia', 'Libya', 'Estonia', 'Sudan',\n",
    "       'Uganda', 'Yemen', 'Nepal', 'El Salvador', 'Cambodia', 'Honduras',\n",
    "       'Cyprus', 'Zambia', 'Senegal', 'Iceland', 'Papua New Guinea',\n",
    "       'Trinidad and Tobago', 'Bosnia and Herzegovina', 'Laos',\n",
    "       'Afghanistan', 'Botswana', 'Mali', 'Gabon', 'Georgia',\n",
    "       'Jamaica', 'Albania', 'Mozambique', 'Malta', 'Burkina Faso',\n",
    "       'Mauritius', 'Benin', 'Namibia', 'Mongolia', 'Armenia', 'Guinea',\n",
    "       'Zimbabwe', 'North Macedonia', 'Bahamas', 'Madagascar',\n",
    "       'Nicaragua', 'Brunei', 'Equatorial Guinea', 'Moldova',\n",
    "       'Chad', 'Rwanda', 'Niger', 'Haiti',\n",
    "       'Kyrgyzstan', 'Tajikistan', 'Malawi', 'Maldives', 'Togo',\n",
    "       'Mauritania', 'Montenegro', 'Fiji', 'Barbados', 'Somalia',\n",
    "       'Eswatini', 'Sierra Leone', 'Guyana', 'Suriname', 'South Sudan',\n",
    "       'Burundi', 'Liberia', 'Djibouti', 'Aruba', 'Bhutan',\n",
    "       'Lesotho', 'Central African Republic', 'Eritrea', 'Belize',\n",
    "       'Saint Lucia', 'Gambia', 'Antigua and Barbuda', 'Seychelles',\n",
    "       'San Marino', 'Solomon Islands', 'Grenada', 'Comoros',\n",
    "       'Saint Kitts and Nevis', 'Vanuatu', 'Samoa',\n",
    "       'Saint Vincent and the Grenadines', 'Dominica', 'Tonga',\n",
    "       'Federated States of Micronesia', 'Palau']\n",
    "\n",
    "continents = [continents[country_alpha2_to_continent_code(country_name_to_country_alpha2(country))] for country in countries]"
   ]
  },
  {
   "cell_type": "code",
   "execution_count": 59,
   "metadata": {},
   "outputs": [
    {
     "data": {
      "text/html": [
       "<div>\n",
       "<style scoped>\n",
       "    .dataframe tbody tr th:only-of-type {\n",
       "        vertical-align: middle;\n",
       "    }\n",
       "\n",
       "    .dataframe tbody tr th {\n",
       "        vertical-align: top;\n",
       "    }\n",
       "\n",
       "    .dataframe thead th {\n",
       "        text-align: right;\n",
       "    }\n",
       "</style>\n",
       "<table border=\"1\" class=\"dataframe\">\n",
       "  <thead>\n",
       "    <tr style=\"text-align: right;\">\n",
       "      <th></th>\n",
       "      <th>Country</th>\n",
       "      <th>Continents</th>\n",
       "    </tr>\n",
       "  </thead>\n",
       "  <tbody>\n",
       "    <tr>\n",
       "      <th>0</th>\n",
       "      <td>United States</td>\n",
       "      <td>North America</td>\n",
       "    </tr>\n",
       "    <tr>\n",
       "      <th>1</th>\n",
       "      <td>China</td>\n",
       "      <td>Asia</td>\n",
       "    </tr>\n",
       "    <tr>\n",
       "      <th>2</th>\n",
       "      <td>Japan</td>\n",
       "      <td>Asia</td>\n",
       "    </tr>\n",
       "    <tr>\n",
       "      <th>3</th>\n",
       "      <td>Germany</td>\n",
       "      <td>European Union</td>\n",
       "    </tr>\n",
       "    <tr>\n",
       "      <th>4</th>\n",
       "      <td>India</td>\n",
       "      <td>Asia</td>\n",
       "    </tr>\n",
       "    <tr>\n",
       "      <th>...</th>\n",
       "      <td>...</td>\n",
       "      <td>...</td>\n",
       "    </tr>\n",
       "    <tr>\n",
       "      <th>178</th>\n",
       "      <td>Saint Vincent and the Grenadines</td>\n",
       "      <td>North America</td>\n",
       "    </tr>\n",
       "    <tr>\n",
       "      <th>179</th>\n",
       "      <td>Dominica</td>\n",
       "      <td>North America</td>\n",
       "    </tr>\n",
       "    <tr>\n",
       "      <th>180</th>\n",
       "      <td>Tonga</td>\n",
       "      <td>Australia</td>\n",
       "    </tr>\n",
       "    <tr>\n",
       "      <th>181</th>\n",
       "      <td>Federated States of Micronesia</td>\n",
       "      <td>Australia</td>\n",
       "    </tr>\n",
       "    <tr>\n",
       "      <th>182</th>\n",
       "      <td>Palau</td>\n",
       "      <td>Australia</td>\n",
       "    </tr>\n",
       "  </tbody>\n",
       "</table>\n",
       "<p>183 rows × 2 columns</p>\n",
       "</div>"
      ],
      "text/plain": [
       "                              Country      Continents\n",
       "0                       United States   North America\n",
       "1                               China            Asia\n",
       "2                               Japan            Asia\n",
       "3                             Germany  European Union\n",
       "4                               India            Asia\n",
       "..                                ...             ...\n",
       "178  Saint Vincent and the Grenadines   North America\n",
       "179                          Dominica   North America\n",
       "180                             Tonga       Australia\n",
       "181    Federated States of Micronesia       Australia\n",
       "182                             Palau       Australia\n",
       "\n",
       "[183 rows x 2 columns]"
      ]
     },
     "execution_count": 59,
     "metadata": {},
     "output_type": "execute_result"
    }
   ],
   "source": [
    "countries_list = pd.DataFrame(\n",
    "    {'Country': countries,\n",
    "     'Continents': continents,\n",
    "    })\n",
    "\n",
    "countries_list"
   ]
  },
  {
   "cell_type": "markdown",
   "metadata": {},
   "source": [
    "We can continue adding more features to any list of countries extracted from the web of a csv table imported to pandas, using the pycountry and pycountry-convert packages."
   ]
  },
  {
   "cell_type": "code",
   "execution_count": null,
   "metadata": {},
   "outputs": [],
   "source": []
  }
 ],
 "metadata": {
  "kernelspec": {
   "display_name": "Python 3",
   "language": "python",
   "name": "python3"
  },
  "language_info": {
   "codemirror_mode": {
    "name": "ipython",
    "version": 3
   },
   "file_extension": ".py",
   "mimetype": "text/x-python",
   "name": "python",
   "nbconvert_exporter": "python",
   "pygments_lexer": "ipython3",
   "version": "3.7.3"
  }
 },
 "nbformat": 4,
 "nbformat_minor": 2
}
