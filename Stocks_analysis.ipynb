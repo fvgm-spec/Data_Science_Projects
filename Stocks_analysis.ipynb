{
  "nbformat": 4,
  "nbformat_minor": 0,
  "metadata": {
    "colab": {
      "name": "New Zealand Earthquakes.ipynb",
      "provenance": [],
      "authorship_tag": "ABX9TyMwNczHk32S9D1EpCnk8tTP",
      "include_colab_link": true
    },
    "kernelspec": {
      "name": "python3",
      "display_name": "Python 3"
    }
  },
  "cells": [
    {
      "cell_type": "markdown",
      "metadata": {
        "id": "view-in-github",
        "colab_type": "text"
      },
      "source": [
        "<a href=\"https://colab.research.google.com/github/fvgm-spec/Data_Science_Projects/blob/master/New_Zealand_Earthquakes.ipynb\" target=\"_parent\"><img src=\"https://colab.research.google.com/assets/colab-badge.svg\" alt=\"Open In Colab\"/></a>"
      ]
    },
    {
      "cell_type": "code",
      "metadata": {
        "id": "e8aPe175JhIE",
        "colab_type": "code",
        "colab": {}
      },
      "source": [
        "#Import the libraries\n",
        "import pandas as pd\n",
        "import numpy as np\n",
        "#from datetime import datetime\n",
        "import matplotlib.pyplot as plt\n",
        "plt.style.use('fivethirtyeight')"
      ],
      "execution_count": 0,
      "outputs": []
    },
    {
      "cell_type": "code",
      "metadata": {
        "id": "fD34snsWKFbx",
        "colab_type": "code",
        "outputId": "2d563af4-0d0c-4b6a-fce6-fe7174db1b30",
        "colab": {
          "resources": {
            "http://localhost:8080/nbextensions/google.colab/files.js": {
              "data": "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",
              "ok": true,
              "headers": [
                [
                  "content-type",
                  "application/javascript"
                ]
              ],
              "status": 200,
              "status_text": ""
            }
          },
          "base_uri": "https://localhost:8080/",
          "height": 74
        }
      },
      "source": [
        "#Loading data\n",
        "from google.colab import files \n",
        "uploaded = files.upload()"
      ],
      "execution_count": 28,
      "outputs": [
        {
          "output_type": "display_data",
          "data": {
            "text/html": [
              "\n",
              "     <input type=\"file\" id=\"files-b8386b90-ba27-4e13-8f6a-e5a9b2f7bbd9\" name=\"files[]\" multiple disabled />\n",
              "     <output id=\"result-b8386b90-ba27-4e13-8f6a-e5a9b2f7bbd9\">\n",
              "      Upload widget is only available when the cell has been executed in the\n",
              "      current browser session. Please rerun this cell to enable.\n",
              "      </output>\n",
              "      <script src=\"/nbextensions/google.colab/files.js\"></script> "
            ],
            "text/plain": [
              "<IPython.core.display.HTML object>"
            ]
          },
          "metadata": {
            "tags": []
          }
        },
        {
          "output_type": "stream",
          "text": [
            "Saving quakes.csv to quakes (1).csv\n"
          ],
          "name": "stdout"
        }
      ]
    },
    {
      "cell_type": "code",
      "metadata": {
        "id": "c3bqNtNsLdqk",
        "colab_type": "code",
        "outputId": "fc81fcb0-be07-424c-ca36-d94b90b6a003",
        "colab": {
          "base_uri": "https://localhost:8080/",
          "height": 779
        }
      },
      "source": [
        "#Storing the data\n",
        "df = pd.read_csv('quakes.csv')\n",
        "#Show the data\n",
        "df"
      ],
      "execution_count": 29,
      "outputs": [
        {
          "output_type": "execute_result",
          "data": {
            "text/html": [
              "<div>\n",
              "<style scoped>\n",
              "    .dataframe tbody tr th:only-of-type {\n",
              "        vertical-align: middle;\n",
              "    }\n",
              "\n",
              "    .dataframe tbody tr th {\n",
              "        vertical-align: top;\n",
              "    }\n",
              "\n",
              "    .dataframe thead th {\n",
              "        text-align: right;\n",
              "    }\n",
              "</style>\n",
              "<table border=\"1\" class=\"dataframe\">\n",
              "  <thead>\n",
              "    <tr style=\"text-align: right;\">\n",
              "      <th></th>\n",
              "      <th>FID</th>\n",
              "      <th>publicid</th>\n",
              "      <th>origintime</th>\n",
              "      <th>longitude</th>\n",
              "      <th>latitude</th>\n",
              "      <th>depth</th>\n",
              "      <th>magnitude</th>\n",
              "      <th>magnitudetype</th>\n",
              "      <th>status</th>\n",
              "      <th>phases</th>\n",
              "      <th>type</th>\n",
              "      <th>agency</th>\n",
              "      <th>updatetime</th>\n",
              "      <th>origin_geom</th>\n",
              "    </tr>\n",
              "  </thead>\n",
              "  <tbody>\n",
              "    <tr>\n",
              "      <th>0</th>\n",
              "      <td>quake.2013p550753</td>\n",
              "      <td>2013p550753</td>\n",
              "      <td>2013-07-23T18:41:11.707</td>\n",
              "      <td>174.4298</td>\n",
              "      <td>-41.5313</td>\n",
              "      <td>7.9883</td>\n",
              "      <td>2.2425</td>\n",
              "      <td>M</td>\n",
              "      <td>automatic</td>\n",
              "      <td>27</td>\n",
              "      <td>NaN</td>\n",
              "      <td>WEL(GNS_Primary)</td>\n",
              "      <td>2013-07-23T18:43:15.672</td>\n",
              "      <td>POINT (174.42978 -41.531299)</td>\n",
              "    </tr>\n",
              "    <tr>\n",
              "      <th>1</th>\n",
              "      <td>quake.2013p550747</td>\n",
              "      <td>2013p550747</td>\n",
              "      <td>2013-07-23T18:38:02.481</td>\n",
              "      <td>174.4140</td>\n",
              "      <td>-41.5181</td>\n",
              "      <td>11.6797</td>\n",
              "      <td>1.7892</td>\n",
              "      <td>M</td>\n",
              "      <td>automatic</td>\n",
              "      <td>11</td>\n",
              "      <td>NaN</td>\n",
              "      <td>WEL(GNS_Primary)</td>\n",
              "      <td>2013-07-23T18:39:25.37</td>\n",
              "      <td>POINT (174.41398 -41.518114)</td>\n",
              "    </tr>\n",
              "    <tr>\n",
              "      <th>2</th>\n",
              "      <td>quake.2013p550725</td>\n",
              "      <td>2013p550725</td>\n",
              "      <td>2013-07-23T18:26:30.229</td>\n",
              "      <td>175.5516</td>\n",
              "      <td>-40.0264</td>\n",
              "      <td>8.7500</td>\n",
              "      <td>3.4562</td>\n",
              "      <td>M</td>\n",
              "      <td>automatic</td>\n",
              "      <td>21</td>\n",
              "      <td>NaN</td>\n",
              "      <td>WEL(GNS_Primary)</td>\n",
              "      <td>2013-07-23T18:29:46.305</td>\n",
              "      <td>POINT (175.55155 -40.026412)</td>\n",
              "    </tr>\n",
              "    <tr>\n",
              "      <th>3</th>\n",
              "      <td>quake.2013p550724</td>\n",
              "      <td>2013p550724</td>\n",
              "      <td>2013-07-23T18:25:52.618</td>\n",
              "      <td>174.2292</td>\n",
              "      <td>-41.6837</td>\n",
              "      <td>11.2109</td>\n",
              "      <td>4.3132</td>\n",
              "      <td>M</td>\n",
              "      <td>automatic</td>\n",
              "      <td>106</td>\n",
              "      <td>NaN</td>\n",
              "      <td>WEL(GNS_Primary)</td>\n",
              "      <td>2013-07-23T18:31:38.905</td>\n",
              "      <td>POINT (174.22922 -41.683674)</td>\n",
              "    </tr>\n",
              "    <tr>\n",
              "      <th>4</th>\n",
              "      <td>quake.2013p550719</td>\n",
              "      <td>2013p550719</td>\n",
              "      <td>2013-07-23T18:23:04.562</td>\n",
              "      <td>174.0623</td>\n",
              "      <td>-41.6946</td>\n",
              "      <td>5.1172</td>\n",
              "      <td>1.8860</td>\n",
              "      <td>M</td>\n",
              "      <td>automatic</td>\n",
              "      <td>13</td>\n",
              "      <td>NaN</td>\n",
              "      <td>WEL(GNS_Primary)</td>\n",
              "      <td>2013-07-23T18:24:34.329</td>\n",
              "      <td>POINT (174.06232 -41.694622)</td>\n",
              "    </tr>\n",
              "    <tr>\n",
              "      <th>...</th>\n",
              "      <td>...</td>\n",
              "      <td>...</td>\n",
              "      <td>...</td>\n",
              "      <td>...</td>\n",
              "      <td>...</td>\n",
              "      <td>...</td>\n",
              "      <td>...</td>\n",
              "      <td>...</td>\n",
              "      <td>...</td>\n",
              "      <td>...</td>\n",
              "      <td>...</td>\n",
              "      <td>...</td>\n",
              "      <td>...</td>\n",
              "      <td>...</td>\n",
              "    </tr>\n",
              "    <tr>\n",
              "      <th>1601</th>\n",
              "      <td>quake.2013p535496</td>\n",
              "      <td>2013p535496</td>\n",
              "      <td>2013-07-18T03:12:28.592</td>\n",
              "      <td>171.9910</td>\n",
              "      <td>-41.7118</td>\n",
              "      <td>13.6719</td>\n",
              "      <td>2.5190</td>\n",
              "      <td>M</td>\n",
              "      <td>automatic</td>\n",
              "      <td>16</td>\n",
              "      <td>NaN</td>\n",
              "      <td>WEL(GNS_Primary)</td>\n",
              "      <td>2013-07-18T03:15:25.048</td>\n",
              "      <td>POINT (171.99097 -41.71181)</td>\n",
              "    </tr>\n",
              "    <tr>\n",
              "      <th>1602</th>\n",
              "      <td>quake.2013p535440</td>\n",
              "      <td>2013p535440</td>\n",
              "      <td>2013-07-18T02:42:28.547</td>\n",
              "      <td>176.4610</td>\n",
              "      <td>-39.2842</td>\n",
              "      <td>24.8047</td>\n",
              "      <td>1.7347</td>\n",
              "      <td>M</td>\n",
              "      <td>automatic</td>\n",
              "      <td>17</td>\n",
              "      <td>NaN</td>\n",
              "      <td>WEL(GNS_Primary)</td>\n",
              "      <td>2013-07-18T02:44:11.419</td>\n",
              "      <td>POINT (176.46105 -39.284176)</td>\n",
              "    </tr>\n",
              "    <tr>\n",
              "      <th>1603</th>\n",
              "      <td>quake.2013p535213</td>\n",
              "      <td>2013p535213</td>\n",
              "      <td>2013-07-18T00:41:35.429</td>\n",
              "      <td>176.1521</td>\n",
              "      <td>-39.9532</td>\n",
              "      <td>8.6328</td>\n",
              "      <td>1.6721</td>\n",
              "      <td>M</td>\n",
              "      <td>automatic</td>\n",
              "      <td>13</td>\n",
              "      <td>NaN</td>\n",
              "      <td>WEL(GNS_Primary)</td>\n",
              "      <td>2013-07-18T00:42:57.661</td>\n",
              "      <td>POINT (176.15207 -39.953217)</td>\n",
              "    </tr>\n",
              "    <tr>\n",
              "      <th>1604</th>\n",
              "      <td>quake.2013p535157</td>\n",
              "      <td>2013p535157</td>\n",
              "      <td>2013-07-18T00:11:42.81</td>\n",
              "      <td>176.6739</td>\n",
              "      <td>-39.7773</td>\n",
              "      <td>20.8203</td>\n",
              "      <td>2.1414</td>\n",
              "      <td>M</td>\n",
              "      <td>automatic</td>\n",
              "      <td>22</td>\n",
              "      <td>NaN</td>\n",
              "      <td>WEL(GNS_Primary)</td>\n",
              "      <td>2013-07-18T00:15:06.993</td>\n",
              "      <td>POINT (176.67393 -39.777281)</td>\n",
              "    </tr>\n",
              "    <tr>\n",
              "      <th>1605</th>\n",
              "      <td>quake.2013p535069</td>\n",
              "      <td>2013p535069</td>\n",
              "      <td>2013-07-17T23:25:22.041</td>\n",
              "      <td>178.6563</td>\n",
              "      <td>-37.7452</td>\n",
              "      <td>26.5625</td>\n",
              "      <td>2.1096</td>\n",
              "      <td>M</td>\n",
              "      <td>automatic</td>\n",
              "      <td>14</td>\n",
              "      <td>NaN</td>\n",
              "      <td>WEL(GNS_Primary)</td>\n",
              "      <td>2013-07-17T23:30:11.549</td>\n",
              "      <td>POINT (178.65627 -37.745204)</td>\n",
              "    </tr>\n",
              "  </tbody>\n",
              "</table>\n",
              "<p>1606 rows × 14 columns</p>\n",
              "</div>"
            ],
            "text/plain": [
              "                    FID  ...                   origin_geom\n",
              "0     quake.2013p550753  ...  POINT (174.42978 -41.531299)\n",
              "1     quake.2013p550747  ...  POINT (174.41398 -41.518114)\n",
              "2     quake.2013p550725  ...  POINT (175.55155 -40.026412)\n",
              "3     quake.2013p550724  ...  POINT (174.22922 -41.683674)\n",
              "4     quake.2013p550719  ...  POINT (174.06232 -41.694622)\n",
              "...                 ...  ...                           ...\n",
              "1601  quake.2013p535496  ...   POINT (171.99097 -41.71181)\n",
              "1602  quake.2013p535440  ...  POINT (176.46105 -39.284176)\n",
              "1603  quake.2013p535213  ...  POINT (176.15207 -39.953217)\n",
              "1604  quake.2013p535157  ...  POINT (176.67393 -39.777281)\n",
              "1605  quake.2013p535069  ...  POINT (178.65627 -37.745204)\n",
              "\n",
              "[1606 rows x 14 columns]"
            ]
          },
          "metadata": {
            "tags": []
          },
          "execution_count": 29
        }
      ]
    },
    {
      "cell_type": "code",
      "metadata": {
        "id": "s9MQJdJarp5s",
        "colab_type": "code",
        "colab": {
          "base_uri": "https://localhost:8080/",
          "height": 34
        },
        "outputId": "5e2d0da8-5687-43e1-a2d6-dc5c0e170f71"
      },
      "source": [
        "df.shape"
      ],
      "execution_count": 30,
      "outputs": [
        {
          "output_type": "execute_result",
          "data": {
            "text/plain": [
              "(1606, 14)"
            ]
          },
          "metadata": {
            "tags": []
          },
          "execution_count": 30
        }
      ]
    },
    {
      "cell_type": "code",
      "metadata": {
        "id": "RMcR3n5hu6a7",
        "colab_type": "code",
        "colab": {
          "base_uri": "https://localhost:8080/",
          "height": 297
        },
        "outputId": "63801d19-98bf-4737-f2e4-ad4b6ca48212"
      },
      "source": [
        "df.describe()"
      ],
      "execution_count": 25,
      "outputs": [
        {
          "output_type": "execute_result",
          "data": {
            "text/html": [
              "<div>\n",
              "<style scoped>\n",
              "    .dataframe tbody tr th:only-of-type {\n",
              "        vertical-align: middle;\n",
              "    }\n",
              "\n",
              "    .dataframe tbody tr th {\n",
              "        vertical-align: top;\n",
              "    }\n",
              "\n",
              "    .dataframe thead th {\n",
              "        text-align: right;\n",
              "    }\n",
              "</style>\n",
              "<table border=\"1\" class=\"dataframe\">\n",
              "  <thead>\n",
              "    <tr style=\"text-align: right;\">\n",
              "      <th></th>\n",
              "      <th>longitude</th>\n",
              "      <th>latitude</th>\n",
              "      <th>depth</th>\n",
              "      <th>magnitude</th>\n",
              "      <th>phases</th>\n",
              "    </tr>\n",
              "  </thead>\n",
              "  <tbody>\n",
              "    <tr>\n",
              "      <th>count</th>\n",
              "      <td>1606.000000</td>\n",
              "      <td>1606.000000</td>\n",
              "      <td>1606.000000</td>\n",
              "      <td>1606.000000</td>\n",
              "      <td>1606.000000</td>\n",
              "    </tr>\n",
              "    <tr>\n",
              "      <th>mean</th>\n",
              "      <td>174.120931</td>\n",
              "      <td>-41.225218</td>\n",
              "      <td>24.130263</td>\n",
              "      <td>2.616729</td>\n",
              "      <td>28.315691</td>\n",
              "    </tr>\n",
              "    <tr>\n",
              "      <th>std</th>\n",
              "      <td>12.546295</td>\n",
              "      <td>1.139439</td>\n",
              "      <td>45.505313</td>\n",
              "      <td>0.676642</td>\n",
              "      <td>19.097372</td>\n",
              "    </tr>\n",
              "    <tr>\n",
              "      <th>min</th>\n",
              "      <td>-179.811900</td>\n",
              "      <td>-45.702500</td>\n",
              "      <td>0.057000</td>\n",
              "      <td>0.853600</td>\n",
              "      <td>6.000000</td>\n",
              "    </tr>\n",
              "    <tr>\n",
              "      <th>25%</th>\n",
              "      <td>174.254500</td>\n",
              "      <td>-41.625000</td>\n",
              "      <td>5.117200</td>\n",
              "      <td>2.137425</td>\n",
              "      <td>15.000000</td>\n",
              "    </tr>\n",
              "    <tr>\n",
              "      <th>50%</th>\n",
              "      <td>174.342750</td>\n",
              "      <td>-41.582950</td>\n",
              "      <td>10.039100</td>\n",
              "      <td>2.474850</td>\n",
              "      <td>22.000000</td>\n",
              "    </tr>\n",
              "    <tr>\n",
              "      <th>75%</th>\n",
              "      <td>174.420700</td>\n",
              "      <td>-41.502125</td>\n",
              "      <td>16.777300</td>\n",
              "      <td>2.981775</td>\n",
              "      <td>35.000000</td>\n",
              "    </tr>\n",
              "    <tr>\n",
              "      <th>max</th>\n",
              "      <td>179.811600</td>\n",
              "      <td>-35.874000</td>\n",
              "      <td>396.875000</td>\n",
              "      <td>6.488800</td>\n",
              "      <td>143.000000</td>\n",
              "    </tr>\n",
              "  </tbody>\n",
              "</table>\n",
              "</div>"
            ],
            "text/plain": [
              "         longitude     latitude        depth    magnitude       phases\n",
              "count  1606.000000  1606.000000  1606.000000  1606.000000  1606.000000\n",
              "mean    174.120931   -41.225218    24.130263     2.616729    28.315691\n",
              "std      12.546295     1.139439    45.505313     0.676642    19.097372\n",
              "min    -179.811900   -45.702500     0.057000     0.853600     6.000000\n",
              "25%     174.254500   -41.625000     5.117200     2.137425    15.000000\n",
              "50%     174.342750   -41.582950    10.039100     2.474850    22.000000\n",
              "75%     174.420700   -41.502125    16.777300     2.981775    35.000000\n",
              "max     179.811600   -35.874000   396.875000     6.488800   143.000000"
            ]
          },
          "metadata": {
            "tags": []
          },
          "execution_count": 25
        }
      ]
    },
    {
      "cell_type": "code",
      "metadata": {
        "id": "buhkZuyro2ZR",
        "colab_type": "code",
        "colab": {
          "base_uri": "https://localhost:8080/",
          "height": 34
        },
        "outputId": "9dbb909f-7d21-4281-9f7e-526f2dc9b57a"
      },
      "source": [
        "#df[(df[col] > 0.5) & (df[col] < 0.7)] \n",
        "df_depth = df[(df['depth'] > 0.057000\t) & (df['depth'] < 396.875000)]\n",
        "#df_depth = df[df['depth']==7.9883]\n",
        "print(df_depth.shape[0])"
      ],
      "execution_count": 26,
      "outputs": [
        {
          "output_type": "stream",
          "text": [
            "1604\n"
          ],
          "name": "stdout"
        }
      ]
    },
    {
      "cell_type": "code",
      "metadata": {
        "id": "aYIjyJs8MRX1",
        "colab_type": "code",
        "outputId": "fb720fe1-92f0-4f8b-dd49-1f47fc4e960f",
        "colab": {
          "base_uri": "https://localhost:8080/",
          "height": 323
        }
      },
      "source": [
        "#Visualize the data\n",
        "plt.figure(figsize=(12.5, 4.5))\n",
        "plt.plot(AAPL['Adj Close'], label = 'AAPL')\n",
        "plt.title('Apple Adj. Close Price History')\n",
        "plt.xlabel('Oct. 02, 2006 - Dec. 30, 2001')\n",
        "plt.ylabel('Adj. Close Price USD ($)')\n",
        "plt.legend(loc='upper left')\n",
        "plt.show()"
      ],
      "execution_count": 0,
      "outputs": [
        {
          "output_type": "display_data",
          "data": {
            "image/png": "[encoded data removed]",
            "text/plain": [
              "<Figure size 900x324 with 1 Axes>"
            ]
          },
          "metadata": {
            "tags": [],
            "needs_background": "light"
          }
        }
      ]
    },
    {
      "cell_type": "code",
      "metadata": {
        "id": "aCvxxXVPOWep",
        "colab_type": "code",
        "outputId": "bcecda7a-52f8-4284-e8bd-ea0fbd4c2f8e",
        "colab": {
          "base_uri": "https://localhost:8080/",
          "height": 419
        }
      },
      "source": [
        "#Create simple moving average with a 30 day window\n",
        "SMA30 = pd.DataFrame()\n",
        "SMA30['Adj Close'] = AAPL['Adj Close'].rolling(window= 30).mean()\n",
        "SMA30"
      ],
      "execution_count": 0,
      "outputs": [
        {
          "output_type": "execute_result",
          "data": {
            "text/html": [
              "<div>\n",
              "<style scoped>\n",
              "    .dataframe tbody tr th:only-of-type {\n",
              "        vertical-align: middle;\n",
              "    }\n",
              "\n",
              "    .dataframe tbody tr th {\n",
              "        vertical-align: top;\n",
              "    }\n",
              "\n",
              "    .dataframe thead th {\n",
              "        text-align: right;\n",
              "    }\n",
              "</style>\n",
              "<table border=\"1\" class=\"dataframe\">\n",
              "  <thead>\n",
              "    <tr style=\"text-align: right;\">\n",
              "      <th></th>\n",
              "      <th>Adj Close</th>\n",
              "    </tr>\n",
              "  </thead>\n",
              "  <tbody>\n",
              "    <tr>\n",
              "      <th>0</th>\n",
              "      <td>NaN</td>\n",
              "    </tr>\n",
              "    <tr>\n",
              "      <th>1</th>\n",
              "      <td>NaN</td>\n",
              "    </tr>\n",
              "    <tr>\n",
              "      <th>2</th>\n",
              "      <td>NaN</td>\n",
              "    </tr>\n",
              "    <tr>\n",
              "      <th>3</th>\n",
              "      <td>NaN</td>\n",
              "    </tr>\n",
              "    <tr>\n",
              "      <th>4</th>\n",
              "      <td>NaN</td>\n",
              "    </tr>\n",
              "    <tr>\n",
              "      <th>...</th>\n",
              "      <td>...</td>\n",
              "    </tr>\n",
              "    <tr>\n",
              "      <th>179</th>\n",
              "      <td>166.220082</td>\n",
              "    </tr>\n",
              "    <tr>\n",
              "      <th>180</th>\n",
              "      <td>166.944129</td>\n",
              "    </tr>\n",
              "    <tr>\n",
              "      <th>181</th>\n",
              "      <td>167.154109</td>\n",
              "    </tr>\n",
              "    <tr>\n",
              "      <th>182</th>\n",
              "      <td>167.320155</td>\n",
              "    </tr>\n",
              "    <tr>\n",
              "      <th>183</th>\n",
              "      <td>167.665489</td>\n",
              "    </tr>\n",
              "  </tbody>\n",
              "</table>\n",
              "<p>184 rows × 1 columns</p>\n",
              "</div>"
            ],
            "text/plain": [
              "      Adj Close\n",
              "0           NaN\n",
              "1           NaN\n",
              "2           NaN\n",
              "3           NaN\n",
              "4           NaN\n",
              "..          ...\n",
              "179  166.220082\n",
              "180  166.944129\n",
              "181  167.154109\n",
              "182  167.320155\n",
              "183  167.665489\n",
              "\n",
              "[184 rows x 1 columns]"
            ]
          },
          "metadata": {
            "tags": []
          },
          "execution_count": 11
        }
      ]
    },
    {
      "cell_type": "code",
      "metadata": {
        "id": "_iGwUOHzPVXp",
        "colab_type": "code",
        "outputId": "022143b3-03f4-46e5-a17e-b701f0bc9587",
        "colab": {
          "base_uri": "https://localhost:8080/",
          "height": 419
        }
      },
      "source": [
        "#Create simple moving 100 day average\n",
        "SMA100 = pd.DataFrame()\n",
        "SMA100['Adj Close'] = AAPL['Adj Close'].rolling(window= 100).mean()\n",
        "SMA100"
      ],
      "execution_count": 0,
      "outputs": [
        {
          "output_type": "execute_result",
          "data": {
            "text/html": [
              "<div>\n",
              "<style scoped>\n",
              "    .dataframe tbody tr th:only-of-type {\n",
              "        vertical-align: middle;\n",
              "    }\n",
              "\n",
              "    .dataframe tbody tr th {\n",
              "        vertical-align: top;\n",
              "    }\n",
              "\n",
              "    .dataframe thead th {\n",
              "        text-align: right;\n",
              "    }\n",
              "</style>\n",
              "<table border=\"1\" class=\"dataframe\">\n",
              "  <thead>\n",
              "    <tr style=\"text-align: right;\">\n",
              "      <th></th>\n",
              "      <th>Adj Close</th>\n",
              "    </tr>\n",
              "  </thead>\n",
              "  <tbody>\n",
              "    <tr>\n",
              "      <th>0</th>\n",
              "      <td>NaN</td>\n",
              "    </tr>\n",
              "    <tr>\n",
              "      <th>1</th>\n",
              "      <td>NaN</td>\n",
              "    </tr>\n",
              "    <tr>\n",
              "      <th>2</th>\n",
              "      <td>NaN</td>\n",
              "    </tr>\n",
              "    <tr>\n",
              "      <th>3</th>\n",
              "      <td>NaN</td>\n",
              "    </tr>\n",
              "    <tr>\n",
              "      <th>4</th>\n",
              "      <td>NaN</td>\n",
              "    </tr>\n",
              "    <tr>\n",
              "      <th>...</th>\n",
              "      <td>...</td>\n",
              "    </tr>\n",
              "    <tr>\n",
              "      <th>179</th>\n",
              "      <td>133.802447</td>\n",
              "    </tr>\n",
              "    <tr>\n",
              "      <th>180</th>\n",
              "      <td>134.523642</td>\n",
              "    </tr>\n",
              "    <tr>\n",
              "      <th>181</th>\n",
              "      <td>135.154237</td>\n",
              "    </tr>\n",
              "    <tr>\n",
              "      <th>182</th>\n",
              "      <td>135.928340</td>\n",
              "    </tr>\n",
              "    <tr>\n",
              "      <th>183</th>\n",
              "      <td>136.712275</td>\n",
              "    </tr>\n",
              "  </tbody>\n",
              "</table>\n",
              "<p>184 rows × 1 columns</p>\n",
              "</div>"
            ],
            "text/plain": [
              "      Adj Close\n",
              "0           NaN\n",
              "1           NaN\n",
              "2           NaN\n",
              "3           NaN\n",
              "4           NaN\n",
              "..          ...\n",
              "179  133.802447\n",
              "180  134.523642\n",
              "181  135.154237\n",
              "182  135.928340\n",
              "183  136.712275\n",
              "\n",
              "[184 rows x 1 columns]"
            ]
          },
          "metadata": {
            "tags": []
          },
          "execution_count": 13
        }
      ]
    },
    {
      "cell_type": "code",
      "metadata": {
        "id": "fca-yk3LP2fi",
        "colab_type": "code",
        "outputId": "c7bfb63a-cc4d-4daa-f025-11303ed8ead4",
        "colab": {
          "base_uri": "https://localhost:8080/",
          "height": 323
        }
      },
      "source": [
        "#Visualize the data\n",
        "plt.figure(figsize=(12.5, 4.5))\n",
        "plt.plot(AAPL['Adj Close'], label = 'AAPL')\n",
        "plt.plot(SMA30['Adj Close'], label = 'SMA30')\n",
        "plt.plot(SMA100['Adj Close'], label = 'SMA100')\n",
        "plt.title('Apple Adj. Close Price History')\n",
        "plt.xlabel('Oct. 02, 2006 - Dec. 30, 2001')\n",
        "plt.ylabel('Adj. Close Price USD ($)')\n",
        "plt.legend(loc='upper left')\n",
        "plt.show()"
      ],
      "execution_count": 0,
      "outputs": [
        {
          "output_type": "display_data",
          "data": {
            "image/png": "[encoded data removed]",
            "text/plain": [
              "<Figure size 900x324 with 1 Axes>"
            ]
          },
          "metadata": {
            "tags": [],
            "needs_background": "light"
          }
        }
      ]
    },
    {
      "cell_type": "code",
      "metadata": {
        "id": "qjxnPqc8Qa4C",
        "colab_type": "code",
        "colab": {}
      },
      "source": [
        "#Creating new dataframe to store all data\n",
        "data = pd.DataFrame()\n",
        "data['AAPL'] = AAPL['Adj Close']\n",
        "data['SMA30'] = SMA30['Adj Close']\n",
        "data['SMA100'] = SMA100['Adj Close']"
      ],
      "execution_count": 0,
      "outputs": []
    }
  ]
}
