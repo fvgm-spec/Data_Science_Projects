{
 "cells": [
  {
   "cell_type": "markdown",
   "metadata": {},
   "source": [
    "## Grouping data with Pandas\n",
    "\n",
    "The groupby clause is an operation on DataFrames. A Series is a 1D object, so performing a groupby operation on it is not very useful. However, it can be used to obtain distinct rows of the Series. The result of a groupby operation is not a DataFrame but dict of DataFrame objects. Let us start with a dataset involving the world's most popular sport—soccer."
   ]
  },
  {
   "cell_type": "markdown",
   "metadata": {},
   "source": [
    "### Data Acquistion\n",
    "\n",
    "This dataset, obtained from Wikipedia, contains data for the finals of the European club championship since its inception in 1955. For reference, you can go to this [link] (http://en.wikipedia.org/wiki/UEFA_Champions_League) \n",
    "\n",
    "First we will create a new folder to store the dataset in our root setting a condition if the path does not exist, we'll create it, by using the _os_ package. Then we will use _urllib_ package to download the csv file from *base_url*. Then we'll store it in the folder we previously created, before that we'll make sure that the file does not exist.\n",
    "\n",
    "Once get get our dataset, we;ll convert it into a DataFrame by using *read_csv* command"
   ]
  },
  {
   "cell_type": "code",
   "execution_count": 24,
   "metadata": {},
   "outputs": [],
   "source": [
    "# Importing urlib\n",
    "import urllib\n",
    "import pandas as pd\n",
    "import os\n",
    "\n",
    "# Creating the data folder\n",
    "if not os.path.exists('./data'):\n",
    "    os.makedirs('./data')\n",
    "\n",
    "# Obtaining the dataset using the url that hosts it\n",
    "base_url = 'https://github.com/fvgm-spec/Pandas/blob/master/uefa.csv'\n",
    "if not os.path.exists('./data/uefa.csv'):     # avoid downloading if the file exists\n",
    "    response = urllib.request.urlretrieve(base_url, './data/uefa.csv')"
   ]
  },
  {
   "cell_type": "markdown",
   "metadata": {},
   "source": [
    "In the output of the previous code we get a DataFrame wth 64 rows that shows the data for all Champions League finals from the beginning of the competition won by Real Madrid until the last edition won by Liverpool."
   ]
  },
  {
   "cell_type": "code",
   "execution_count": 54,
   "metadata": {},
   "outputs": [
    {
     "data": {
      "text/html": [
       "<div>\n",
       "<style scoped>\n",
       "    .dataframe tbody tr th:only-of-type {\n",
       "        vertical-align: middle;\n",
       "    }\n",
       "\n",
       "    .dataframe tbody tr th {\n",
       "        vertical-align: top;\n",
       "    }\n",
       "\n",
       "    .dataframe thead th {\n",
       "        text-align: right;\n",
       "    }\n",
       "</style>\n",
       "<table border=\"1\" class=\"dataframe\">\n",
       "  <thead>\n",
       "    <tr style=\"text-align: right;\">\n",
       "      <th></th>\n",
       "      <th>Season</th>\n",
       "      <th>Nation</th>\n",
       "      <th>Winners</th>\n",
       "      <th>Score</th>\n",
       "      <th>Runners-up</th>\n",
       "      <th>Runner-UpNation</th>\n",
       "      <th>Venue</th>\n",
       "      <th>Attendance</th>\n",
       "    </tr>\n",
       "  </thead>\n",
       "  <tbody>\n",
       "    <tr>\n",
       "      <th>0</th>\n",
       "      <td>1955–56</td>\n",
       "      <td>Spain</td>\n",
       "      <td>Real Madrid</td>\n",
       "      <td>4–3</td>\n",
       "      <td>Stade de Reims</td>\n",
       "      <td>France</td>\n",
       "      <td>Parc des Princes,Paris</td>\n",
       "      <td>38239</td>\n",
       "    </tr>\n",
       "    <tr>\n",
       "      <th>1</th>\n",
       "      <td>1956–57</td>\n",
       "      <td>Spain</td>\n",
       "      <td>Real Madrid</td>\n",
       "      <td>2–0</td>\n",
       "      <td>Fiorentina</td>\n",
       "      <td>Italy</td>\n",
       "      <td>Santiago Bernabéu Stadium, Madrid</td>\n",
       "      <td>124000</td>\n",
       "    </tr>\n",
       "    <tr>\n",
       "      <th>2</th>\n",
       "      <td>1957–58</td>\n",
       "      <td>Spain</td>\n",
       "      <td>Real Madrid</td>\n",
       "      <td>3–2</td>\n",
       "      <td>Milan</td>\n",
       "      <td>Italy</td>\n",
       "      <td>Heysel Stadium,Brussels</td>\n",
       "      <td>67000</td>\n",
       "    </tr>\n",
       "    <tr>\n",
       "      <th>3</th>\n",
       "      <td>1958–59</td>\n",
       "      <td>Spain</td>\n",
       "      <td>Real Madrid</td>\n",
       "      <td>2–0</td>\n",
       "      <td>Stade de Reims</td>\n",
       "      <td>France</td>\n",
       "      <td>Neckarstadion,Stuttgart</td>\n",
       "      <td>72000</td>\n",
       "    </tr>\n",
       "    <tr>\n",
       "      <th>4</th>\n",
       "      <td>1959–60</td>\n",
       "      <td>Spain</td>\n",
       "      <td>Real Madrid</td>\n",
       "      <td>7–3</td>\n",
       "      <td>Eintracht Frankfurt</td>\n",
       "      <td>Germany</td>\n",
       "      <td>Hampden Park,Glasgow</td>\n",
       "      <td>127621</td>\n",
       "    </tr>\n",
       "    <tr>\n",
       "      <th>...</th>\n",
       "      <td>...</td>\n",
       "      <td>...</td>\n",
       "      <td>...</td>\n",
       "      <td>...</td>\n",
       "      <td>...</td>\n",
       "      <td>...</td>\n",
       "      <td>...</td>\n",
       "      <td>...</td>\n",
       "    </tr>\n",
       "    <tr>\n",
       "      <th>59</th>\n",
       "      <td>2014–15</td>\n",
       "      <td>Spain</td>\n",
       "      <td>Barcelona</td>\n",
       "      <td>3–1</td>\n",
       "      <td>Juventus</td>\n",
       "      <td>Italy</td>\n",
       "      <td>Olympic Stadium,Berlin</td>\n",
       "      <td>70442</td>\n",
       "    </tr>\n",
       "    <tr>\n",
       "      <th>60</th>\n",
       "      <td>2015–16</td>\n",
       "      <td>Spain</td>\n",
       "      <td>Real Madrid</td>\n",
       "      <td>1–1*[J]</td>\n",
       "      <td>Atletico Madrid</td>\n",
       "      <td>Spain</td>\n",
       "      <td>Giuseppe Meazza</td>\n",
       "      <td>71942</td>\n",
       "    </tr>\n",
       "    <tr>\n",
       "      <th>61</th>\n",
       "      <td>2016–17</td>\n",
       "      <td>Spain</td>\n",
       "      <td>Real Madrid</td>\n",
       "      <td>4–1</td>\n",
       "      <td>Juventus</td>\n",
       "      <td>Italy</td>\n",
       "      <td>Cardiff Stadium</td>\n",
       "      <td>65842</td>\n",
       "    </tr>\n",
       "    <tr>\n",
       "      <th>62</th>\n",
       "      <td>2017–18</td>\n",
       "      <td>Spain</td>\n",
       "      <td>Real Madrid</td>\n",
       "      <td>4–1</td>\n",
       "      <td>Liverpool</td>\n",
       "      <td>England</td>\n",
       "      <td>Olimpiyskiy NCS Stadium</td>\n",
       "      <td>61561</td>\n",
       "    </tr>\n",
       "    <tr>\n",
       "      <th>63</th>\n",
       "      <td>2018–19</td>\n",
       "      <td>England</td>\n",
       "      <td>Liverpool</td>\n",
       "      <td>2–0</td>\n",
       "      <td>Tottenham</td>\n",
       "      <td>England</td>\n",
       "      <td>Wanda Metropolitano</td>\n",
       "      <td>63272</td>\n",
       "    </tr>\n",
       "  </tbody>\n",
       "</table>\n",
       "<p>64 rows × 8 columns</p>\n",
       "</div>"
      ],
      "text/plain": [
       "     Season   Nation      Winners    Score           Runners-up  \\\n",
       "0   1955–56    Spain  Real Madrid      4–3       Stade de Reims   \n",
       "1   1956–57    Spain  Real Madrid      2–0           Fiorentina   \n",
       "2   1957–58    Spain  Real Madrid      3–2                Milan   \n",
       "3   1958–59    Spain  Real Madrid      2–0       Stade de Reims   \n",
       "4   1959–60    Spain  Real Madrid      7–3  Eintracht Frankfurt   \n",
       "..      ...      ...          ...      ...                  ...   \n",
       "59  2014–15    Spain    Barcelona      3–1             Juventus   \n",
       "60  2015–16    Spain  Real Madrid  1–1*[J]      Atletico Madrid   \n",
       "61  2016–17    Spain  Real Madrid      4–1             Juventus   \n",
       "62  2017–18    Spain  Real Madrid      4–1            Liverpool   \n",
       "63  2018–19  England    Liverpool      2–0            Tottenham   \n",
       "\n",
       "   Runner-UpNation                              Venue  Attendance  \n",
       "0           France             Parc des Princes,Paris       38239  \n",
       "1            Italy  Santiago Bernabéu Stadium, Madrid      124000  \n",
       "2            Italy            Heysel Stadium,Brussels       67000  \n",
       "3           France            Neckarstadion,Stuttgart       72000  \n",
       "4          Germany               Hampden Park,Glasgow      127621  \n",
       "..             ...                                ...         ...  \n",
       "59           Italy             Olympic Stadium,Berlin       70442  \n",
       "60           Spain                    Giuseppe Meazza       71942  \n",
       "61           Italy                    Cardiff Stadium       65842  \n",
       "62         England            Olimpiyskiy NCS Stadium       61561  \n",
       "63         England                Wanda Metropolitano       63272  \n",
       "\n",
       "[64 rows x 8 columns]"
      ]
     },
     "execution_count": 54,
     "metadata": {},
     "output_type": "execute_result"
    }
   ],
   "source": [
    "uefaDF=pd.read_excel('C:/Data/csv/uefa_champions_winners.xlsx')\n",
    "uefaDF"
   ]
  },
  {
   "cell_type": "markdown",
   "metadata": {},
   "source": [
    "### Start Grouping Data\n",
    "\n",
    "Thus, the output shows the season, the nations to which the winning and runner-up clubs belong, the score, the venue, and the attendance figures. Suppose we wanted to rank the nations by the number of European club championships they had won. We can do this by using groupby. First, we apply groupby to the DataFrame and see what is the type of the result:"
   ]
  },
  {
   "cell_type": "code",
   "execution_count": 127,
   "metadata": {},
   "outputs": [
    {
     "data": {
      "text/plain": [
       "<pandas.core.groupby.generic.DataFrameGroupBy object at 0x000001B7172B2048>"
      ]
     },
     "execution_count": 127,
     "metadata": {},
     "output_type": "execute_result"
    }
   ],
   "source": [
    "nationsGrp =uefaDF.groupby(['Nation'])\n",
    "nationsGrp"
   ]
  },
  {
   "cell_type": "markdown",
   "metadata": {},
   "source": [
    "Thus, we see that **nationsGrp** is of the _pandas.core.groupby.DataFrameGroupBy_ type. The column on which we use groupby is referred to as the key. We can see what the groups look like by using the groups attribute on the resulting _DataFrameGroupBy_ object:"
   ]
  },
  {
   "cell_type": "code",
   "execution_count": 108,
   "metadata": {},
   "outputs": [
    {
     "data": {
      "text/plain": [
       "{'England': Int64Index([12, 21, 22, 23, 24, 25, 26, 28, 43, 49, 52, 56, 63], dtype='int64'),\n",
       " 'France': Int64Index([37], dtype='int64'),\n",
       " 'Germany': Int64Index([18, 19, 20, 27, 41, 45, 57], dtype='int64'),\n",
       " 'Italy': Int64Index([7, 8, 9, 13, 29, 33, 34, 38, 40, 47, 51, 54], dtype='int64'),\n",
       " 'Netherlands': Int64Index([14, 15, 16, 17, 32, 39], dtype='int64'),\n",
       " 'Portugal': Int64Index([5, 6, 31, 48], dtype='int64'),\n",
       " 'Romania': Int64Index([30], dtype='int64'),\n",
       " 'Scotland': Int64Index([11], dtype='int64'),\n",
       " 'Spain': Int64Index([0, 1, 2, 3, 4, 10, 36, 42, 44, 46, 50, 53, 55, 58, 59, 60, 61, 62], dtype='int64'),\n",
       " 'Yugoslavia': Int64Index([35], dtype='int64')}"
      ]
     },
     "execution_count": 108,
     "metadata": {},
     "output_type": "execute_result"
    }
   ],
   "source": [
    "nationsGrp.groups"
   ]
  },
  {
   "cell_type": "markdown",
   "metadata": {},
   "source": [
    "This is basically a dictionary that just shows the unique groups and the axis labels corresponding to each group—in this case the row number. We can get for example whole information of the 62th index of the DataFrame, that corresponds to 2017-18 season final, which represented the 13th \"Orejona\" for Real Madrid disputed against Liverpool.\n",
    "\n",
    "The number of groups is obtained by using the *len()* function in the cell below:"
   ]
  },
  {
   "cell_type": "code",
   "execution_count": 140,
   "metadata": {},
   "outputs": [
    {
     "data": {
      "text/plain": [
       "Season                             2017–18\n",
       "Nation                               Spain\n",
       "Winners                        Real Madrid\n",
       "Score                                  4–1\n",
       "Runners-up                       Liverpool\n",
       "Runner-UpNation                    England\n",
       "Venue              Olimpiyskiy NCS Stadium\n",
       "Attendance                           61561\n",
       "Name: 62, dtype: object"
      ]
     },
     "execution_count": 140,
     "metadata": {},
     "output_type": "execute_result"
    }
   ],
   "source": [
    "Spain = uefaDF.iloc[62]\n",
    "Spain"
   ]
  },
  {
   "cell_type": "code",
   "execution_count": 142,
   "metadata": {},
   "outputs": [
    {
     "data": {
      "text/plain": [
       "10"
      ]
     },
     "execution_count": 142,
     "metadata": {},
     "output_type": "execute_result"
    }
   ],
   "source": [
    "len(nationsGrp.groups)"
   ]
  },
  {
   "cell_type": "markdown",
   "metadata": {},
   "source": [
    "Here the data we grouped previously determined by `DataFrameGroupBy object`, identified with the variable name _nationsGrp_, we'll use it to display some tables, but first we need to convert it to DataFrame, so we can create a new mesure and sort it ascending.\n",
    "\n",
    "In the table we note that the Nation with more wins in Champions is Spain, mostly due to the 13 a 5 Trophys from Real Madrid and Barcelona."
   ]
  },
  {
   "cell_type": "code",
   "execution_count": 143,
   "metadata": {},
   "outputs": [
    {
     "data": {
      "text/html": [
       "<div>\n",
       "<style scoped>\n",
       "    .dataframe tbody tr th:only-of-type {\n",
       "        vertical-align: middle;\n",
       "    }\n",
       "\n",
       "    .dataframe tbody tr th {\n",
       "        vertical-align: top;\n",
       "    }\n",
       "\n",
       "    .dataframe thead th {\n",
       "        text-align: right;\n",
       "    }\n",
       "</style>\n",
       "<table border=\"1\" class=\"dataframe\">\n",
       "  <thead>\n",
       "    <tr style=\"text-align: right;\">\n",
       "      <th></th>\n",
       "      <th>Champion</th>\n",
       "    </tr>\n",
       "    <tr>\n",
       "      <th>Nation</th>\n",
       "      <th></th>\n",
       "    </tr>\n",
       "  </thead>\n",
       "  <tbody>\n",
       "    <tr>\n",
       "      <th>Spain</th>\n",
       "      <td>18</td>\n",
       "    </tr>\n",
       "    <tr>\n",
       "      <th>England</th>\n",
       "      <td>13</td>\n",
       "    </tr>\n",
       "    <tr>\n",
       "      <th>Italy</th>\n",
       "      <td>12</td>\n",
       "    </tr>\n",
       "    <tr>\n",
       "      <th>Germany</th>\n",
       "      <td>7</td>\n",
       "    </tr>\n",
       "    <tr>\n",
       "      <th>Netherlands</th>\n",
       "      <td>6</td>\n",
       "    </tr>\n",
       "    <tr>\n",
       "      <th>Portugal</th>\n",
       "      <td>4</td>\n",
       "    </tr>\n",
       "    <tr>\n",
       "      <th>France</th>\n",
       "      <td>1</td>\n",
       "    </tr>\n",
       "    <tr>\n",
       "      <th>Romania</th>\n",
       "      <td>1</td>\n",
       "    </tr>\n",
       "    <tr>\n",
       "      <th>Scotland</th>\n",
       "      <td>1</td>\n",
       "    </tr>\n",
       "    <tr>\n",
       "      <th>Yugoslavia</th>\n",
       "      <td>1</td>\n",
       "    </tr>\n",
       "  </tbody>\n",
       "</table>\n",
       "</div>"
      ],
      "text/plain": [
       "             Champion\n",
       "Nation               \n",
       "Spain              18\n",
       "England            13\n",
       "Italy              12\n",
       "Germany             7\n",
       "Netherlands         6\n",
       "Portugal            4\n",
       "France              1\n",
       "Romania             1\n",
       "Scotland            1\n",
       "Yugoslavia          1"
      ]
     },
     "execution_count": 143,
     "metadata": {},
     "output_type": "execute_result"
    }
   ],
   "source": [
    "nationWins=nationsGrp.size().to_frame('Champion')\n",
    "NationsWinners=nationWins.sort_values(by='Champion', ascending=False)\n",
    "NationsWinners"
   ]
  },
  {
   "cell_type": "markdown",
   "metadata": {},
   "source": [
    "The _size()_ function returns a Series with the group names as the index and the size of each group. The _size()_ function is also an aggregation function.\n",
    "\n",
    "To do a further breakup of wins by country and club, we apply a **multicolumn groupby function** and then size() and sort():"
   ]
  },
  {
   "cell_type": "code",
   "execution_count": 165,
   "metadata": {},
   "outputs": [
    {
     "data": {
      "text/html": [
       "<div>\n",
       "<style scoped>\n",
       "    .dataframe tbody tr th:only-of-type {\n",
       "        vertical-align: middle;\n",
       "    }\n",
       "\n",
       "    .dataframe tbody tr th {\n",
       "        vertical-align: top;\n",
       "    }\n",
       "\n",
       "    .dataframe thead th {\n",
       "        text-align: right;\n",
       "    }\n",
       "</style>\n",
       "<table border=\"1\" class=\"dataframe\">\n",
       "  <thead>\n",
       "    <tr style=\"text-align: right;\">\n",
       "      <th></th>\n",
       "      <th></th>\n",
       "      <th>Champion</th>\n",
       "    </tr>\n",
       "    <tr>\n",
       "      <th>Nation</th>\n",
       "      <th>Winners</th>\n",
       "      <th></th>\n",
       "    </tr>\n",
       "  </thead>\n",
       "  <tbody>\n",
       "    <tr>\n",
       "      <th>Spain</th>\n",
       "      <th>Real Madrid</th>\n",
       "      <td>13</td>\n",
       "    </tr>\n",
       "    <tr>\n",
       "      <th>Italy</th>\n",
       "      <th>Milan</th>\n",
       "      <td>7</td>\n",
       "    </tr>\n",
       "    <tr>\n",
       "      <th>England</th>\n",
       "      <th>Liverpool</th>\n",
       "      <td>6</td>\n",
       "    </tr>\n",
       "    <tr>\n",
       "      <th>Germany</th>\n",
       "      <th>Bayern Munich</th>\n",
       "      <td>5</td>\n",
       "    </tr>\n",
       "    <tr>\n",
       "      <th>Spain</th>\n",
       "      <th>Barcelona</th>\n",
       "      <td>5</td>\n",
       "    </tr>\n",
       "    <tr>\n",
       "      <th>Netherlands</th>\n",
       "      <th>Ajax</th>\n",
       "      <td>4</td>\n",
       "    </tr>\n",
       "    <tr>\n",
       "      <th>England</th>\n",
       "      <th>Manchester United</th>\n",
       "      <td>3</td>\n",
       "    </tr>\n",
       "    <tr>\n",
       "      <th>Italy</th>\n",
       "      <th>Internazionale</th>\n",
       "      <td>3</td>\n",
       "    </tr>\n",
       "    <tr>\n",
       "      <th>Portugal</th>\n",
       "      <th>Benfica</th>\n",
       "      <td>2</td>\n",
       "    </tr>\n",
       "    <tr>\n",
       "      <th>England</th>\n",
       "      <th>Nottingham Forest</th>\n",
       "      <td>2</td>\n",
       "    </tr>\n",
       "    <tr>\n",
       "      <th>Italy</th>\n",
       "      <th>Juventus</th>\n",
       "      <td>2</td>\n",
       "    </tr>\n",
       "    <tr>\n",
       "      <th>Portugal</th>\n",
       "      <th>Porto</th>\n",
       "      <td>2</td>\n",
       "    </tr>\n",
       "    <tr>\n",
       "      <th>Scotland</th>\n",
       "      <th>Celtic</th>\n",
       "      <td>1</td>\n",
       "    </tr>\n",
       "    <tr>\n",
       "      <th>Romania</th>\n",
       "      <th>Steaua Bucure?ti</th>\n",
       "      <td>1</td>\n",
       "    </tr>\n",
       "    <tr>\n",
       "      <th>England</th>\n",
       "      <th>Aston Villa</th>\n",
       "      <td>1</td>\n",
       "    </tr>\n",
       "    <tr>\n",
       "      <th rowspan=\"2\" valign=\"top\">Netherlands</th>\n",
       "      <th>PSV Eindhoven</th>\n",
       "      <td>1</td>\n",
       "    </tr>\n",
       "    <tr>\n",
       "      <th>Feyenoord</th>\n",
       "      <td>1</td>\n",
       "    </tr>\n",
       "    <tr>\n",
       "      <th>England</th>\n",
       "      <th>Chelsea</th>\n",
       "      <td>1</td>\n",
       "    </tr>\n",
       "    <tr>\n",
       "      <th rowspan=\"2\" valign=\"top\">Germany</th>\n",
       "      <th>Hamburg</th>\n",
       "      <td>1</td>\n",
       "    </tr>\n",
       "    <tr>\n",
       "      <th>Borussia Dortmund</th>\n",
       "      <td>1</td>\n",
       "    </tr>\n",
       "    <tr>\n",
       "      <th>France</th>\n",
       "      <th>Marseille</th>\n",
       "      <td>1</td>\n",
       "    </tr>\n",
       "    <tr>\n",
       "      <th>Yugoslavia</th>\n",
       "      <th>Red Star Belgrade</th>\n",
       "      <td>1</td>\n",
       "    </tr>\n",
       "  </tbody>\n",
       "</table>\n",
       "</div>"
      ],
      "text/plain": [
       "                               Champion\n",
       "Nation      Winners                    \n",
       "Spain       Real Madrid              13\n",
       "Italy       Milan                     7\n",
       "England     Liverpool                 6\n",
       "Germany     Bayern Munich             5\n",
       "Spain       Barcelona                 5\n",
       "Netherlands Ajax                      4\n",
       "England     Manchester United         3\n",
       "Italy       Internazionale            3\n",
       "Portugal    Benfica                   2\n",
       "England     Nottingham Forest         2\n",
       "Italy       Juventus                  2\n",
       "Portugal    Porto                     2\n",
       "Scotland    Celtic                    1\n",
       "Romania     Steaua Bucure?ti          1\n",
       "England     Aston Villa               1\n",
       "Netherlands PSV Eindhoven             1\n",
       "            Feyenoord                 1\n",
       "England     Chelsea                   1\n",
       "Germany     Hamburg                   1\n",
       "            Borussia Dortmund         1\n",
       "France      Marseille                 1\n",
       "Yugoslavia  Red Star Belgrade         1"
      ]
     },
     "execution_count": 165,
     "metadata": {},
     "output_type": "execute_result"
    }
   ],
   "source": [
    "winners = uefaDF.groupby(['Nation','Winners']).size().to_frame('Champion')\n",
    "winnersUEFA = winners.sort_values(by='Champion', ascending=False)\n",
    "winnersUEFA"
   ]
  },
  {
   "cell_type": "markdown",
   "metadata": {},
   "source": [
    "A **multicolumn groupby** specifies more than one column to be used as the key by specifying the key columns as a list. Thus, we can see that the most successful club in this competition has been Real Madrid of Spain."
   ]
  },
  {
   "cell_type": "markdown",
   "metadata": {},
   "source": [
    "Now we will examine a richer dataset that will enable us to illustrate many more features of groupby. This dataset is also soccer related and provides statistics for the top four European soccer leagues in the 2012-2013 season:\n",
    "* English Premier League or EPL\n",
    "* Spanish Primera Division or La Liga\n",
    "* Italian First Division or Serie A\n",
    "* German Premier League or Bundesliga\n",
    "\n",
    "The source of this information is at http://soccerstats.com.\n",
    "Let us now read the goal stats data into a DataFrame as usual. In this case, we create a row index on the DataFrame using the _Month_ column."
   ]
  },
  {
   "cell_type": "code",
   "execution_count": 158,
   "metadata": {},
   "outputs": [],
   "source": [
    "goalStatsDF=pd.read_csv('C:/Data/csv/goals_stats_euro_leagues.csv')\n",
    "goalStatsDF=goalStatsDF.set_index('Month')"
   ]
  },
  {
   "cell_type": "markdown",
   "metadata": {},
   "source": [
    "At first let's take a snapshot of the head and tail ends of our dataset:"
   ]
  },
  {
   "cell_type": "code",
   "execution_count": 157,
   "metadata": {},
   "outputs": [
    {
     "data": {
      "text/html": [
       "<div>\n",
       "<style scoped>\n",
       "    .dataframe tbody tr th:only-of-type {\n",
       "        vertical-align: middle;\n",
       "    }\n",
       "\n",
       "    .dataframe tbody tr th {\n",
       "        vertical-align: top;\n",
       "    }\n",
       "\n",
       "    .dataframe thead th {\n",
       "        text-align: right;\n",
       "    }\n",
       "</style>\n",
       "<table border=\"1\" class=\"dataframe\">\n",
       "  <thead>\n",
       "    <tr style=\"text-align: right;\">\n",
       "      <th></th>\n",
       "      <th>Stat</th>\n",
       "      <th>EPL</th>\n",
       "      <th>La Liga</th>\n",
       "      <th>Serie A</th>\n",
       "      <th>Bundesliga</th>\n",
       "    </tr>\n",
       "    <tr>\n",
       "      <th>Month</th>\n",
       "      <th></th>\n",
       "      <th></th>\n",
       "      <th></th>\n",
       "      <th></th>\n",
       "      <th></th>\n",
       "    </tr>\n",
       "  </thead>\n",
       "  <tbody>\n",
       "    <tr>\n",
       "      <th>08/01/2012</th>\n",
       "      <td>MatchesPlayed</td>\n",
       "      <td>20.0</td>\n",
       "      <td>20</td>\n",
       "      <td>10.0</td>\n",
       "      <td>10.0</td>\n",
       "    </tr>\n",
       "    <tr>\n",
       "      <th>09/01/2012</th>\n",
       "      <td>MatchesPlayed</td>\n",
       "      <td>38.0</td>\n",
       "      <td>39</td>\n",
       "      <td>50.0</td>\n",
       "      <td>44.0</td>\n",
       "    </tr>\n",
       "    <tr>\n",
       "      <th>10/01/2012</th>\n",
       "      <td>MatchesPlayed</td>\n",
       "      <td>31.0</td>\n",
       "      <td>31</td>\n",
       "      <td>39.0</td>\n",
       "      <td>27.0</td>\n",
       "    </tr>\n",
       "  </tbody>\n",
       "</table>\n",
       "</div>"
      ],
      "text/plain": [
       "                     Stat   EPL  La Liga  Serie A  Bundesliga\n",
       "Month                                                        \n",
       "08/01/2012  MatchesPlayed  20.0       20     10.0        10.0\n",
       "09/01/2012  MatchesPlayed  38.0       39     50.0        44.0\n",
       "10/01/2012  MatchesPlayed  31.0       31     39.0        27.0"
      ]
     },
     "execution_count": 157,
     "metadata": {},
     "output_type": "execute_result"
    }
   ],
   "source": [
    "goalStatsDF.head(3)"
   ]
  },
  {
   "cell_type": "code",
   "execution_count": 152,
   "metadata": {},
   "outputs": [
    {
     "data": {
      "text/html": [
       "<div>\n",
       "<style scoped>\n",
       "    .dataframe tbody tr th:only-of-type {\n",
       "        vertical-align: middle;\n",
       "    }\n",
       "\n",
       "    .dataframe tbody tr th {\n",
       "        vertical-align: top;\n",
       "    }\n",
       "\n",
       "    .dataframe thead th {\n",
       "        text-align: right;\n",
       "    }\n",
       "</style>\n",
       "<table border=\"1\" class=\"dataframe\">\n",
       "  <thead>\n",
       "    <tr style=\"text-align: right;\">\n",
       "      <th></th>\n",
       "      <th>Stat</th>\n",
       "      <th>EPL</th>\n",
       "      <th>La Liga</th>\n",
       "      <th>Serie A</th>\n",
       "      <th>Bundesliga</th>\n",
       "    </tr>\n",
       "    <tr>\n",
       "      <th>Month</th>\n",
       "      <th></th>\n",
       "      <th></th>\n",
       "      <th></th>\n",
       "      <th></th>\n",
       "      <th></th>\n",
       "    </tr>\n",
       "  </thead>\n",
       "  <tbody>\n",
       "    <tr>\n",
       "      <th>04/01/2013</th>\n",
       "      <td>GoalsScored</td>\n",
       "      <td>105.0</td>\n",
       "      <td>127</td>\n",
       "      <td>102.0</td>\n",
       "      <td>104.0</td>\n",
       "    </tr>\n",
       "    <tr>\n",
       "      <th>05/01/2013</th>\n",
       "      <td>GoalsScored</td>\n",
       "      <td>96.0</td>\n",
       "      <td>109</td>\n",
       "      <td>102.0</td>\n",
       "      <td>92.0</td>\n",
       "    </tr>\n",
       "    <tr>\n",
       "      <th>06/01/2013</th>\n",
       "      <td>GoalsScored</td>\n",
       "      <td>NaN</td>\n",
       "      <td>80</td>\n",
       "      <td>NaN</td>\n",
       "      <td>NaN</td>\n",
       "    </tr>\n",
       "  </tbody>\n",
       "</table>\n",
       "</div>"
      ],
      "text/plain": [
       "                   Stat    EPL  La Liga  Serie A  Bundesliga\n",
       "Month                                                       \n",
       "04/01/2013  GoalsScored  105.0      127    102.0       104.0\n",
       "05/01/2013  GoalsScored   96.0      109    102.0        92.0\n",
       "06/01/2013  GoalsScored    NaN       80      NaN         NaN"
      ]
     },
     "execution_count": 152,
     "metadata": {},
     "output_type": "execute_result"
    }
   ],
   "source": [
    "goalStatsDF.tail(3)"
   ]
  },
  {
   "cell_type": "markdown",
   "metadata": {},
   "source": [
    "There are two measures in this data frame _MatchesPlayed_ and _GoalsScored_ and the data is ordered first by Stat and then by Month. Note that the last row in the tail() output has the NaN values for all the columns except La Liga but we'll discuss this in more detail later. We can use groupby to display the stats, but this will be done by grouped year instead. Here is how this is done:"
   ]
  },
  {
   "cell_type": "code",
   "execution_count": 159,
   "metadata": {},
   "outputs": [
    {
     "data": {
      "text/plain": [
       "<pandas.core.groupby.generic.DataFrameGroupBy object at 0x000001B71753B1D0>"
      ]
     },
     "execution_count": 159,
     "metadata": {},
     "output_type": "execute_result"
    }
   ],
   "source": [
    "goalStatsGroupedByYear = goalStatsDF.groupby(lambda Month: Month.split('/')[2])\n",
    "goalStatsGroupedByYear"
   ]
  },
  {
   "cell_type": "markdown",
   "metadata": {},
   "source": [
    "We can then iterate over the resulting _DataFrameGroupBy object_ and display the groups. In the following command, we see the two sets of statistics grouped by year. Note the use\n",
    "of the lambda function to obtain the year group from the first day of the month."
   ]
  },
  {
   "cell_type": "code",
   "execution_count": 155,
   "metadata": {},
   "outputs": [
    {
     "name": "stdout",
     "output_type": "stream",
     "text": [
      "2012\n",
      "                     Stat    EPL  La Liga  Serie A  Bundesliga\n",
      "Month                                                         \n",
      "08/01/2012  MatchesPlayed   20.0       20     10.0        10.0\n",
      "09/01/2012  MatchesPlayed   38.0       39     50.0        44.0\n",
      "10/01/2012  MatchesPlayed   31.0       31     39.0        27.0\n",
      "11/01/2012  MatchesPlayed   50.0       41     42.0        46.0\n",
      "12/01/2012  MatchesPlayed   59.0       39     39.0        26.0\n",
      "08/01/2012    GoalsScored   57.0       60     21.0        23.0\n",
      "09/01/2012    GoalsScored  111.0      112    133.0       135.0\n",
      "10/01/2012    GoalsScored   95.0       88     97.0        77.0\n",
      "11/01/2012    GoalsScored  121.0      116    120.0       137.0\n",
      "12/01/2012    GoalsScored  183.0      109    125.0        72.0\n",
      "2013\n",
      "                     Stat    EPL  La Liga  Serie A  Bundesliga\n",
      "Month                                                         \n",
      "01/01/2013  MatchesPlayed   42.0       40     40.0        18.0\n",
      "02/01/2013  MatchesPlayed   30.0       40     40.0        36.0\n",
      "03/01/2013  MatchesPlayed   35.0       38     39.0        36.0\n",
      "04/01/2013  MatchesPlayed   42.0       42     41.0        36.0\n",
      "05/01/2013  MatchesPlayed   33.0       40     40.0        27.0\n",
      "06/02/2013  MatchesPlayed    NaN       10      NaN         NaN\n",
      "01/01/2013    GoalsScored  117.0      121    104.0        51.0\n",
      "02/01/2013    GoalsScored   87.0      110    100.0       101.0\n",
      "03/01/2013    GoalsScored   91.0      101     99.0       106.0\n",
      "04/01/2013    GoalsScored  105.0      127    102.0       104.0\n",
      "05/01/2013    GoalsScored   96.0      109    102.0        92.0\n",
      "06/01/2013    GoalsScored    NaN       80      NaN         NaN\n"
     ]
    }
   ],
   "source": [
    "for name, group in goalStatsGroupedByYear:\n",
    "    print(name)\n",
    "    print(group)"
   ]
  },
  {
   "cell_type": "markdown",
   "metadata": {},
   "source": [
    "If we wished to group by individual month instead, we would need to apply groupby with a level argument, as follows:"
   ]
  },
  {
   "cell_type": "code",
   "execution_count": 160,
   "metadata": {},
   "outputs": [],
   "source": [
    "goalStatsGroupedByMonth = goalStatsDF.groupby(level=0)"
   ]
  },
  {
   "cell_type": "code",
   "execution_count": 161,
   "metadata": {},
   "outputs": [
    {
     "name": "stdout",
     "output_type": "stream",
     "text": [
      "01/01/2013\n",
      "                     Stat    EPL  La Liga  Serie A  Bundesliga\n",
      "Month                                                         \n",
      "01/01/2013  MatchesPlayed   42.0       40     40.0        18.0\n",
      "01/01/2013    GoalsScored  117.0      121    104.0        51.0\n",
      "\n",
      "\n",
      "02/01/2013\n",
      "                     Stat   EPL  La Liga  Serie A  Bundesliga\n",
      "Month                                                        \n",
      "02/01/2013  MatchesPlayed  30.0       40     40.0        36.0\n",
      "02/01/2013    GoalsScored  87.0      110    100.0       101.0\n",
      "\n",
      "\n",
      "03/01/2013\n",
      "                     Stat   EPL  La Liga  Serie A  Bundesliga\n",
      "Month                                                        \n",
      "03/01/2013  MatchesPlayed  35.0       38     39.0        36.0\n",
      "03/01/2013    GoalsScored  91.0      101     99.0       106.0\n",
      "\n",
      "\n",
      "04/01/2013\n",
      "                     Stat    EPL  La Liga  Serie A  Bundesliga\n",
      "Month                                                         \n",
      "04/01/2013  MatchesPlayed   42.0       42     41.0        36.0\n",
      "04/01/2013    GoalsScored  105.0      127    102.0       104.0\n",
      "\n",
      "\n",
      "05/01/2013\n",
      "                     Stat   EPL  La Liga  Serie A  Bundesliga\n",
      "Month                                                        \n",
      "05/01/2013  MatchesPlayed  33.0       40     40.0        27.0\n",
      "05/01/2013    GoalsScored  96.0      109    102.0        92.0\n",
      "\n",
      "\n",
      "06/01/2013\n",
      "                   Stat  EPL  La Liga  Serie A  Bundesliga\n",
      "Month                                                     \n",
      "06/01/2013  GoalsScored  NaN       80      NaN         NaN\n",
      "\n",
      "\n",
      "06/02/2013\n",
      "                     Stat  EPL  La Liga  Serie A  Bundesliga\n",
      "Month                                                       \n",
      "06/02/2013  MatchesPlayed  NaN       10      NaN         NaN\n",
      "\n",
      "\n",
      "08/01/2012\n",
      "                     Stat   EPL  La Liga  Serie A  Bundesliga\n",
      "Month                                                        \n",
      "08/01/2012  MatchesPlayed  20.0       20     10.0        10.0\n",
      "08/01/2012    GoalsScored  57.0       60     21.0        23.0\n",
      "\n",
      "\n",
      "09/01/2012\n",
      "                     Stat    EPL  La Liga  Serie A  Bundesliga\n",
      "Month                                                         \n",
      "09/01/2012  MatchesPlayed   38.0       39     50.0        44.0\n",
      "09/01/2012    GoalsScored  111.0      112    133.0       135.0\n",
      "\n",
      "\n",
      "10/01/2012\n",
      "                     Stat   EPL  La Liga  Serie A  Bundesliga\n",
      "Month                                                        \n",
      "10/01/2012  MatchesPlayed  31.0       31     39.0        27.0\n",
      "10/01/2012    GoalsScored  95.0       88     97.0        77.0\n",
      "\n",
      "\n",
      "11/01/2012\n",
      "                     Stat    EPL  La Liga  Serie A  Bundesliga\n",
      "Month                                                         \n",
      "11/01/2012  MatchesPlayed   50.0       41     42.0        46.0\n",
      "11/01/2012    GoalsScored  121.0      116    120.0       137.0\n",
      "\n",
      "\n",
      "12/01/2012\n",
      "                     Stat    EPL  La Liga  Serie A  Bundesliga\n",
      "Month                                                         \n",
      "12/01/2012  MatchesPlayed   59.0       39     39.0        26.0\n",
      "12/01/2012    GoalsScored  183.0      109    125.0        72.0\n",
      "\n",
      "\n"
     ]
    }
   ],
   "source": [
    "for name, group in goalStatsGroupedByMonth:\n",
    "    print(name)\n",
    "    print(group)\n",
    "    print(\"\\n\")"
   ]
  },
  {
   "cell_type": "markdown",
   "metadata": {},
   "source": [
    "Note that since in the preceding commands we're grouping on an index, we need to specify the level argument as opposed to just using a column name. When we group by multiple keys, the resulting group name is a tuple, as shown in the upcoming commands. First, we reset the index to obtain the original DataFrame and define a MultiIndex in order to be able to group by multiple keys."
   ]
  },
  {
   "cell_type": "code",
   "execution_count": 162,
   "metadata": {},
   "outputs": [],
   "source": [
    "goalStatsDF=goalStatsDF.reset_index()\n",
    "goalStatsDF=goalStatsDF.set_index(['Month','Stat'])"
   ]
  },
  {
   "cell_type": "code",
   "execution_count": 163,
   "metadata": {},
   "outputs": [],
   "source": [
    "monthStatGroup=goalStatsDF.groupby(level=['Month','Stat'])"
   ]
  },
  {
   "cell_type": "code",
   "execution_count": 164,
   "metadata": {},
   "outputs": [
    {
     "name": "stdout",
     "output_type": "stream",
     "text": [
      "('01/01/2013', 'GoalsScored')\n",
      "                          EPL  La Liga  Serie A  Bundesliga\n",
      "Month      Stat                                            \n",
      "01/01/2013 GoalsScored  117.0      121    104.0        51.0\n",
      "('01/01/2013', 'MatchesPlayed')\n",
      "                           EPL  La Liga  Serie A  Bundesliga\n",
      "Month      Stat                                             \n",
      "01/01/2013 MatchesPlayed  42.0       40     40.0        18.0\n",
      "('02/01/2013', 'GoalsScored')\n",
      "                         EPL  La Liga  Serie A  Bundesliga\n",
      "Month      Stat                                           \n",
      "02/01/2013 GoalsScored  87.0      110    100.0       101.0\n",
      "('02/01/2013', 'MatchesPlayed')\n",
      "                           EPL  La Liga  Serie A  Bundesliga\n",
      "Month      Stat                                             \n",
      "02/01/2013 MatchesPlayed  30.0       40     40.0        36.0\n",
      "('03/01/2013', 'GoalsScored')\n",
      "                         EPL  La Liga  Serie A  Bundesliga\n",
      "Month      Stat                                           \n",
      "03/01/2013 GoalsScored  91.0      101     99.0       106.0\n",
      "('03/01/2013', 'MatchesPlayed')\n",
      "                           EPL  La Liga  Serie A  Bundesliga\n",
      "Month      Stat                                             \n",
      "03/01/2013 MatchesPlayed  35.0       38     39.0        36.0\n",
      "('04/01/2013', 'GoalsScored')\n",
      "                          EPL  La Liga  Serie A  Bundesliga\n",
      "Month      Stat                                            \n",
      "04/01/2013 GoalsScored  105.0      127    102.0       104.0\n",
      "('04/01/2013', 'MatchesPlayed')\n",
      "                           EPL  La Liga  Serie A  Bundesliga\n",
      "Month      Stat                                             \n",
      "04/01/2013 MatchesPlayed  42.0       42     41.0        36.0\n",
      "('05/01/2013', 'GoalsScored')\n",
      "                         EPL  La Liga  Serie A  Bundesliga\n",
      "Month      Stat                                           \n",
      "05/01/2013 GoalsScored  96.0      109    102.0        92.0\n",
      "('05/01/2013', 'MatchesPlayed')\n",
      "                           EPL  La Liga  Serie A  Bundesliga\n",
      "Month      Stat                                             \n",
      "05/01/2013 MatchesPlayed  33.0       40     40.0        27.0\n",
      "('06/01/2013', 'GoalsScored')\n",
      "                        EPL  La Liga  Serie A  Bundesliga\n",
      "Month      Stat                                          \n",
      "06/01/2013 GoalsScored  NaN       80      NaN         NaN\n",
      "('06/02/2013', 'MatchesPlayed')\n",
      "                          EPL  La Liga  Serie A  Bundesliga\n",
      "Month      Stat                                            \n",
      "06/02/2013 MatchesPlayed  NaN       10      NaN         NaN\n",
      "('08/01/2012', 'GoalsScored')\n",
      "                         EPL  La Liga  Serie A  Bundesliga\n",
      "Month      Stat                                           \n",
      "08/01/2012 GoalsScored  57.0       60     21.0        23.0\n",
      "('08/01/2012', 'MatchesPlayed')\n",
      "                           EPL  La Liga  Serie A  Bundesliga\n",
      "Month      Stat                                             \n",
      "08/01/2012 MatchesPlayed  20.0       20     10.0        10.0\n",
      "('09/01/2012', 'GoalsScored')\n",
      "                          EPL  La Liga  Serie A  Bundesliga\n",
      "Month      Stat                                            \n",
      "09/01/2012 GoalsScored  111.0      112    133.0       135.0\n",
      "('09/01/2012', 'MatchesPlayed')\n",
      "                           EPL  La Liga  Serie A  Bundesliga\n",
      "Month      Stat                                             \n",
      "09/01/2012 MatchesPlayed  38.0       39     50.0        44.0\n",
      "('10/01/2012', 'GoalsScored')\n",
      "                         EPL  La Liga  Serie A  Bundesliga\n",
      "Month      Stat                                           \n",
      "10/01/2012 GoalsScored  95.0       88     97.0        77.0\n",
      "('10/01/2012', 'MatchesPlayed')\n",
      "                           EPL  La Liga  Serie A  Bundesliga\n",
      "Month      Stat                                             \n",
      "10/01/2012 MatchesPlayed  31.0       31     39.0        27.0\n",
      "('11/01/2012', 'GoalsScored')\n",
      "                          EPL  La Liga  Serie A  Bundesliga\n",
      "Month      Stat                                            \n",
      "11/01/2012 GoalsScored  121.0      116    120.0       137.0\n",
      "('11/01/2012', 'MatchesPlayed')\n",
      "                           EPL  La Liga  Serie A  Bundesliga\n",
      "Month      Stat                                             \n",
      "11/01/2012 MatchesPlayed  50.0       41     42.0        46.0\n",
      "('12/01/2012', 'GoalsScored')\n",
      "                          EPL  La Liga  Serie A  Bundesliga\n",
      "Month      Stat                                            \n",
      "12/01/2012 GoalsScored  183.0      109    125.0        72.0\n",
      "('12/01/2012', 'MatchesPlayed')\n",
      "                           EPL  La Liga  Serie A  Bundesliga\n",
      "Month      Stat                                             \n",
      "12/01/2012 MatchesPlayed  59.0       39     39.0        26.0\n"
     ]
    }
   ],
   "source": [
    "for name, group in monthStatGroup:\n",
    "    print(name)\n",
    "    print(group)"
   ]
  },
  {
   "cell_type": "code",
   "execution_count": null,
   "metadata": {},
   "outputs": [],
   "source": []
  }
 ],
 "metadata": {
  "kernelspec": {
   "display_name": "Python 3",
   "language": "python",
   "name": "python3"
  },
  "language_info": {
   "codemirror_mode": {
    "name": "ipython",
    "version": 3
   },
   "file_extension": ".py",
   "mimetype": "text/x-python",
   "name": "python",
   "nbconvert_exporter": "python",
   "pygments_lexer": "ipython3",
   "version": "3.7.3"
  }
 },
 "nbformat": 4,
 "nbformat_minor": 2
}
